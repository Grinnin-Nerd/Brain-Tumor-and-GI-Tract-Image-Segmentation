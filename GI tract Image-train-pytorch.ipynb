{
 "cells": [
  {
   "cell_type": "markdown",
   "id": "44bae529",
   "metadata": {
    "papermill": {
     "duration": 0.027986,
     "end_time": "2023-03-25T19:27:27.546182",
     "exception": false,
     "start_time": "2023-03-25T19:27:27.518196",
     "status": "completed"
    },
    "tags": []
   },
   "source": [
    "# [UW-Madison GI Tract Image Segmentation](https://www.kaggle.com/competitions/uw-madison-gi-tract-image-segmentation/)\n",
    "> Track healthy organs in medical scans to improve cancer treatment\n",
    "\n",
    "<img src=\"https://storage.googleapis.com/kaggle-competitions/kaggle/27923/logos/header.png?t=2021-06-02-20-30-25\">"
   ]
  },
  {
   "cell_type": "markdown",
   "id": "fe7d0fae",
   "metadata": {
    "papermill": {
     "duration": 0.025756,
     "end_time": "2023-03-25T19:27:27.598562",
     "exception": false,
     "start_time": "2023-03-25T19:27:27.572806",
     "status": "completed"
    },
    "tags": []
   },
   "source": [
    "# ⚽ Methodlogy\n",
    "<img src=\"https://i.ibb.co/sgsPf4v/Capture.png\" width=800>\n",
    "<img src=\"https://i.ibb.co/KKtZ7Gn/Picture1-3d.png\" width=500>\n",
    "\n",
    "* In this notebook I'll demonstrate how to train using 2.5D images with **Unet** model using PyTorch.\n",
    "* 2.5D images take leverage of the extra depth information like our typical RGB image.\n",
    "* In this notebook I'll be using 3 channels with 2 strides for 2.5D images\n",
    "* Instead of Resize I'll be using Padding to avoid info loss.\n",
    "* For mask I'll be using pre-computed 2.5D images & mask from [here](https://www.kaggle.com/code/awsaf49/uwmgi-2-5d-stride-2-dataset)\n",
    "* As there are overlaps between **Stomach**, **Large Bowel** & **Small Bowel** classes, this is a **MultiLabel Segmentation** task, so final activaion should be `sigmoid` instead of `softmax`.\n",
    "* For data split I'll be using **StratifiedGroupFold** to avoid data leakage due to `case` and to stratify `empty` and `non-empty` mask cases.\n",
    "* You can play with different models and losses."
   ]
  },
  {
   "cell_type": "markdown",
   "id": "fb974157",
   "metadata": {
    "papermill": {
     "duration": 0.05195,
     "end_time": "2023-03-25T19:27:27.697111",
     "exception": false,
     "start_time": "2023-03-25T19:27:27.645161",
     "status": "completed"
    },
    "tags": []
   },
   "source": [
    "## Please Upvote if you Find this Useful :)"
   ]
  },
  {
   "cell_type": "markdown",
   "id": "c4840bfb",
   "metadata": {
    "papermill": {
     "duration": 0.04378,
     "end_time": "2023-03-25T19:27:27.795800",
     "exception": false,
     "start_time": "2023-03-25T19:27:27.752020",
     "status": "completed"
    },
    "tags": []
   },
   "source": [
    "# 📒 Notebooks\n",
    "📌 **2.5D-TransUnet**:\n",
    "* Train: [UWMGI: TransUNet 2.5D [Train] [TF]](https://www.kaggle.com/code/awsaf49/uwmgi-transunet-2-5d-train-tf)\n",
    "\n",
    "📌 **2.5D**:\n",
    "* Train: [UWMGI: 2.5D [Train] [PyTorch]](https://www.kaggle.com/awsaf49/uwmgi-2-5d-train-pytorch/)\n",
    "* Infer: [UWMGI: 2.5D [Infer] [PyTorch]](https://www.kaggle.com/awsaf49/uwmgi-2-5d-infer-pytorch/)\n",
    "* Data: [UWMGI: 2.5D stride=2 Data](https://www.kaggle.com/code/awsaf49/uwmgi-2-5d-stride-2-data/)\n",
    "* Dataset: [UWMGI: 2.5D stride=2 Dataset](https://www.kaggle.com/datasets/awsaf49/uwmgi-25d-stride2-dataset)\n",
    "\n",
    "📌 **UNet**:\n",
    "* Train: [UWMGI: Unet [Train] [PyTorch]](https://www.kaggle.com/code/awsaf49/uwmgi-unet-train-pytorch/)\n",
    "* Infer: [UWMGI: Unet [Infer] [PyTorch]](https://www.kaggle.com/code/awsaf49/uwmgi-unet-infer-pytorch/)\n",
    "\n",
    "📌 **MMDetection**:\n",
    "* Train: [UWMGI: MMDetection [Train]](https://www.kaggle.com/code/awsaf49/uwmgi-mmdetection-train)\n",
    "\n",
    "📌 **Data/Dataset**:\n",
    "* Data: [UWMGI: Mask Data](https://www.kaggle.com/datasets/awsaf49/uwmgi-mask-data)\n",
    "* Dataset: [UWMGI: Mask Dataset](https://www.kaggle.com/datasets/awsaf49/uwmgi-mask-dataset)"
   ]
  },
  {
   "cell_type": "markdown",
   "id": "1e08eb26",
   "metadata": {
    "papermill": {
     "duration": 0.040861,
     "end_time": "2023-03-25T19:27:27.885287",
     "exception": false,
     "start_time": "2023-03-25T19:27:27.844426",
     "status": "completed"
    },
    "tags": []
   },
   "source": [
    "# 🛠 Install Libraries"
   ]
  },
  {
   "cell_type": "code",
   "execution_count": 1,
   "id": "3f6057dd",
   "metadata": {
    "execution": {
     "iopub.execute_input": "2023-03-25T19:27:28.010776Z",
     "iopub.status.busy": "2023-03-25T19:27:28.009206Z",
     "iopub.status.idle": "2023-03-25T19:27:52.388625Z",
     "shell.execute_reply": "2023-03-25T19:27:52.387969Z",
     "shell.execute_reply.started": "2022-05-03T02:51:27.372833Z"
    },
    "papermill": {
     "duration": 24.462217,
     "end_time": "2023-03-25T19:27:52.388811",
     "exception": false,
     "start_time": "2023-03-25T19:27:27.926594",
     "status": "completed"
    },
    "tags": []
   },
   "outputs": [
    {
     "name": "stdout",
     "output_type": "stream",
     "text": [
      "\u001b[33mWARNING: Running pip as the 'root' user can result in broken permissions and conflicting behaviour with the system package manager. It is recommended to use a virtual environment instead: https://pip.pypa.io/warnings/venv\u001b[0m\r\n",
      "\u001b[31mERROR: pip's dependency resolver does not currently take into account all the packages that are installed. This behaviour is the source of the following dependency conflicts.\r\n",
      "pdpbox 0.2.1 requires matplotlib==3.1.1, but you have matplotlib 3.4.3 which is incompatible.\r\n",
      "hypertools 0.7.0 requires scikit-learn!=0.22,<0.24,>=0.19.1, but you have scikit-learn 1.0 which is incompatible.\u001b[0m\r\n",
      "\u001b[33mWARNING: Running pip as the 'root' user can result in broken permissions and conflicting behaviour with the system package manager. It is recommended to use a virtual environment instead: https://pip.pypa.io/warnings/venv\u001b[0m\r\n"
     ]
    }
   ],
   "source": [
    "!pip install -q segmentation_models_pytorch\n",
    "!pip install -q scikit-learn==1.0"
   ]
  },
  {
   "cell_type": "markdown",
   "id": "db275798",
   "metadata": {
    "papermill": {
     "duration": 0.026857,
     "end_time": "2023-03-25T19:27:52.490453",
     "exception": false,
     "start_time": "2023-03-25T19:27:52.463596",
     "status": "completed"
    },
    "tags": []
   },
   "source": [
    "# 📚 Import Libraries "
   ]
  },
  {
   "cell_type": "code",
   "execution_count": 2,
   "id": "f4034927",
   "metadata": {
    "execution": {
     "iopub.execute_input": "2023-03-25T19:27:52.550639Z",
     "iopub.status.busy": "2023-03-25T19:27:52.549777Z",
     "iopub.status.idle": "2023-03-25T19:27:52.588866Z",
     "shell.execute_reply": "2023-03-25T19:27:52.588334Z",
     "shell.execute_reply.started": "2022-05-03T02:52:16.344164Z"
    },
    "papermill": {
     "duration": 0.072174,
     "end_time": "2023-03-25T19:27:52.589020",
     "exception": false,
     "start_time": "2023-03-25T19:27:52.516846",
     "status": "completed"
    },
    "tags": []
   },
   "outputs": [],
   "source": [
    "%load_ext autoreload\n",
    "%autoreload 2"
   ]
  },
  {
   "cell_type": "code",
   "execution_count": 3,
   "id": "6ebf6d70",
   "metadata": {
    "_kg_hide-input": false,
    "execution": {
     "iopub.execute_input": "2023-03-25T19:27:52.651639Z",
     "iopub.status.busy": "2023-03-25T19:27:52.650601Z",
     "iopub.status.idle": "2023-03-25T19:28:01.784281Z",
     "shell.execute_reply": "2023-03-25T19:28:01.784736Z",
     "shell.execute_reply.started": "2022-05-03T02:52:16.399815Z"
    },
    "papermill": {
     "duration": 9.168124,
     "end_time": "2023-03-25T19:28:01.784915",
     "exception": false,
     "start_time": "2023-03-25T19:27:52.616791",
     "status": "completed"
    },
    "tags": []
   },
   "outputs": [],
   "source": [
    "import numpy as np\n",
    "import pandas as pd\n",
    "pd.options.plotting.backend = \"plotly\"\n",
    "import random\n",
    "from glob import glob\n",
    "import os, shutil\n",
    "from tqdm import tqdm\n",
    "tqdm.pandas()\n",
    "import time\n",
    "import copy\n",
    "import joblib\n",
    "from collections import defaultdict\n",
    "import gc\n",
    "from IPython import display as ipd\n",
    "\n",
    "# visualization\n",
    "import cv2\n",
    "import matplotlib.pyplot as plt\n",
    "from matplotlib.patches import Rectangle\n",
    "\n",
    "# Sklearn\n",
    "from sklearn.model_selection import StratifiedKFold, KFold, StratifiedGroupKFold\n",
    "\n",
    "# PyTorch \n",
    "import torch\n",
    "import torch.nn as nn\n",
    "import torch.optim as optim\n",
    "from torch.optim import lr_scheduler\n",
    "from torch.utils.data import Dataset, DataLoader\n",
    "from torch.cuda import amp\n",
    "\n",
    "import timm\n",
    "\n",
    "# Albumentations for augmentations\n",
    "import albumentations as A\n",
    "from albumentations.pytorch import ToTensorV2\n",
    "\n",
    "import rasterio\n",
    "from joblib import Parallel, delayed\n",
    "\n",
    "# For colored terminal text\n",
    "from colorama import Fore, Back, Style\n",
    "c_  = Fore.GREEN\n",
    "sr_ = Style.RESET_ALL\n",
    "\n",
    "import warnings\n",
    "warnings.filterwarnings(\"ignore\")\n",
    "\n",
    "# For descriptive error messages\n",
    "os.environ['CUDA_LAUNCH_BLOCKING'] = \"1\""
   ]
  },
  {
   "cell_type": "markdown",
   "id": "b32ef300",
   "metadata": {
    "papermill": {
     "duration": 0.026927,
     "end_time": "2023-03-25T19:28:01.838756",
     "exception": false,
     "start_time": "2023-03-25T19:28:01.811829",
     "status": "completed"
    },
    "tags": []
   },
   "source": [
    "# ⭐ WandB\n",
    "\n",
    "<img src=\"https://camo.githubusercontent.com/dd842f7b0be57140e68b2ab9cb007992acd131c48284eaf6b1aca758bfea358b/68747470733a2f2f692e696d6775722e636f6d2f52557469567a482e706e67\" width=\"400\" alt=\"Weights & Biases\" />\n",
    "\n",
    "Weights & Biases (W&B) is MLOps platform for tracking our experiemnts. We can use it to Build better models faster with experiment tracking, dataset versioning, and model management. Some of the cool features of **W&B**:\n",
    "\n",
    "* Track, compare, and visualize ML experiments\n",
    "* Get live metrics, terminal logs, and system stats streamed to the centralized dashboard.\n",
    "* Explain how your model works, show graphs of how model versions improved, discuss bugs, and demonstrate progress towards milestones."
   ]
  },
  {
   "cell_type": "markdown",
   "id": "cbd37372",
   "metadata": {
    "papermill": {
     "duration": 0.026469,
     "end_time": "2023-03-25T19:28:01.891940",
     "exception": false,
     "start_time": "2023-03-25T19:28:01.865471",
     "status": "completed"
    },
    "tags": []
   },
   "source": [
    "# ⚙️ Configuration "
   ]
  },
  {
   "cell_type": "code",
   "execution_count": 4,
   "id": "aa1b7e8e",
   "metadata": {
    "execution": {
     "iopub.execute_input": "2023-03-25T19:28:01.953068Z",
     "iopub.status.busy": "2023-03-25T19:28:01.951589Z",
     "iopub.status.idle": "2023-03-25T19:28:02.084343Z",
     "shell.execute_reply": "2023-03-25T19:28:02.083406Z",
     "shell.execute_reply.started": "2022-05-03T02:52:28.33709Z"
    },
    "papermill": {
     "duration": 0.165641,
     "end_time": "2023-03-25T19:28:02.084489",
     "exception": false,
     "start_time": "2023-03-25T19:28:01.918848",
     "status": "completed"
    },
    "tags": []
   },
   "outputs": [],
   "source": [
    "class CFG:\n",
    "    seed          = 101\n",
    "    debug         = False # set debug=False for Full Training\n",
    "    exp_name      = '2.5D'\n",
    "    comment       = 'unet-efficientnet_b0-160x192-ep=5'\n",
    "    model_name    = 'Unet'\n",
    "    backbone      = 'vgg19_bn'\n",
    "    train_bs      = 32\n",
    "    valid_bs      = train_bs*2\n",
    "    img_size      = [320, 384]\n",
    "    epochs        = 5\n",
    "    lr            = 2e-3\n",
    "    scheduler     = 'CosineAnnealingLR'\n",
    "    min_lr        = 1e-6\n",
    "    T_max         = int(30000/train_bs*epochs)+50\n",
    "    T_0           = 25\n",
    "    warmup_epochs = 0\n",
    "    wd            = 1e-6\n",
    "    n_accumulate  = max(1, 32//train_bs)\n",
    "    n_fold        = 5\n",
    "    folds         = [0]\n",
    "    num_classes   = 3\n",
    "    device        = torch.device(\"cuda:0\" if torch.cuda.is_available() else \"cpu\")"
   ]
  },
  {
   "cell_type": "markdown",
   "id": "4c2ee43f",
   "metadata": {
    "papermill": {
     "duration": 0.027206,
     "end_time": "2023-03-25T19:28:02.138757",
     "exception": false,
     "start_time": "2023-03-25T19:28:02.111551",
     "status": "completed"
    },
    "tags": []
   },
   "source": [
    "# ❗ Reproducibility"
   ]
  },
  {
   "cell_type": "code",
   "execution_count": 5,
   "id": "2d6630a3",
   "metadata": {
    "execution": {
     "iopub.execute_input": "2023-03-25T19:28:02.197877Z",
     "iopub.status.busy": "2023-03-25T19:28:02.197238Z",
     "iopub.status.idle": "2023-03-25T19:28:02.261016Z",
     "shell.execute_reply": "2023-03-25T19:28:02.261410Z",
     "shell.execute_reply.started": "2022-05-03T02:52:28.485487Z"
    },
    "papermill": {
     "duration": 0.096022,
     "end_time": "2023-03-25T19:28:02.261574",
     "exception": false,
     "start_time": "2023-03-25T19:28:02.165552",
     "status": "completed"
    },
    "tags": []
   },
   "outputs": [
    {
     "name": "stdout",
     "output_type": "stream",
     "text": [
      "> SEEDING DONE\n"
     ]
    }
   ],
   "source": [
    "def set_seed(seed = 42):\n",
    "    '''Sets the seed of the entire notebook so results are the same every time we run.\n",
    "    This is for REPRODUCIBILITY.'''\n",
    "    np.random.seed(seed)\n",
    "    random.seed(seed)\n",
    "    torch.manual_seed(seed)\n",
    "    torch.cuda.manual_seed(seed)\n",
    "    # When running on the CuDNN backend, two further options must be set\n",
    "    torch.backends.cudnn.deterministic = True\n",
    "    torch.backends.cudnn.benchmark = False\n",
    "    # Set a fixed value for the hash seed\n",
    "    os.environ['PYTHONHASHSEED'] = str(seed)\n",
    "    print('> SEEDING DONE')\n",
    "    \n",
    "set_seed(CFG.seed)"
   ]
  },
  {
   "cell_type": "markdown",
   "id": "cf3d16c2",
   "metadata": {
    "papermill": {
     "duration": 0.026769,
     "end_time": "2023-03-25T19:28:02.315988",
     "exception": false,
     "start_time": "2023-03-25T19:28:02.289219",
     "status": "completed"
    },
    "tags": []
   },
   "source": [
    "# 📖 Meta Data\n",
    "\n",
    "* Files\n",
    "    * train.csv - IDs and masks for all training objects.\n",
    "    * sample_submission.csv - a sample submission file in the correct format\n",
    "    * train - a folder of case/day folders, each containing slice images for a particular case on a given day.\n",
    "\n",
    "> Note that the image filenames include 4 numbers (ex. `276_276_1.63_1.63.png`). These four numbers are slice height / width (integers in pixels) and heigh/width pixel spacing (floating points in mm). The first two defines the resolution of the slide. The last two record the physical size of each pixel.\n",
    "\n",
    "* Columns\n",
    "    * id - unique identifier for object\n",
    "    * class - the predicted class for the object\n",
    "    * EncodedPixels - RLE-encoded pixels for the identified object"
   ]
  },
  {
   "cell_type": "code",
   "execution_count": 6,
   "id": "5eabf8ce",
   "metadata": {
    "execution": {
     "iopub.execute_input": "2023-03-25T19:28:02.374051Z",
     "iopub.status.busy": "2023-03-25T19:28:02.373338Z",
     "iopub.status.idle": "2023-03-25T19:28:03.478386Z",
     "shell.execute_reply": "2023-03-25T19:28:03.477926Z",
     "shell.execute_reply.started": "2022-05-03T02:52:29.652364Z"
    },
    "papermill": {
     "duration": 1.135774,
     "end_time": "2023-03-25T19:28:03.478516",
     "exception": false,
     "start_time": "2023-03-25T19:28:02.342742",
     "status": "completed"
    },
    "tags": []
   },
   "outputs": [
    {
     "data": {
      "text/html": [
       "<div>\n",
       "<style scoped>\n",
       "    .dataframe tbody tr th:only-of-type {\n",
       "        vertical-align: middle;\n",
       "    }\n",
       "\n",
       "    .dataframe tbody tr th {\n",
       "        vertical-align: top;\n",
       "    }\n",
       "\n",
       "    .dataframe thead th {\n",
       "        text-align: right;\n",
       "    }\n",
       "</style>\n",
       "<table border=\"1\" class=\"dataframe\">\n",
       "  <thead>\n",
       "    <tr style=\"text-align: right;\">\n",
       "      <th></th>\n",
       "      <th>id</th>\n",
       "      <th>case</th>\n",
       "      <th>day</th>\n",
       "      <th>slice</th>\n",
       "      <th>height</th>\n",
       "      <th>width</th>\n",
       "      <th>segmentation</th>\n",
       "      <th>rle_len</th>\n",
       "      <th>empty</th>\n",
       "      <th>image_path</th>\n",
       "      <th>mask_path</th>\n",
       "      <th>original_image_path</th>\n",
       "    </tr>\n",
       "  </thead>\n",
       "  <tbody>\n",
       "    <tr>\n",
       "      <th>0</th>\n",
       "      <td>case123_day20_slice_0001</td>\n",
       "      <td>123</td>\n",
       "      <td>20</td>\n",
       "      <td>1</td>\n",
       "      <td>266</td>\n",
       "      <td>266</td>\n",
       "      <td>['', '', '']</td>\n",
       "      <td>0</td>\n",
       "      <td>True</td>\n",
       "      <td>/kaggle/input/uwmgi-25d-stride2-dataset/images...</td>\n",
       "      <td>/kaggle/input/uwmgi-25d-stride2-dataset/masks/...</td>\n",
       "      <td>/kaggle/input/uw-madison-gi-tract-image-segmen...</td>\n",
       "    </tr>\n",
       "    <tr>\n",
       "      <th>1</th>\n",
       "      <td>case123_day20_slice_0002</td>\n",
       "      <td>123</td>\n",
       "      <td>20</td>\n",
       "      <td>2</td>\n",
       "      <td>266</td>\n",
       "      <td>266</td>\n",
       "      <td>['', '', '']</td>\n",
       "      <td>0</td>\n",
       "      <td>True</td>\n",
       "      <td>/kaggle/input/uwmgi-25d-stride2-dataset/images...</td>\n",
       "      <td>/kaggle/input/uwmgi-25d-stride2-dataset/masks/...</td>\n",
       "      <td>/kaggle/input/uw-madison-gi-tract-image-segmen...</td>\n",
       "    </tr>\n",
       "    <tr>\n",
       "      <th>2</th>\n",
       "      <td>case123_day20_slice_0003</td>\n",
       "      <td>123</td>\n",
       "      <td>20</td>\n",
       "      <td>3</td>\n",
       "      <td>266</td>\n",
       "      <td>266</td>\n",
       "      <td>['', '', '']</td>\n",
       "      <td>0</td>\n",
       "      <td>True</td>\n",
       "      <td>/kaggle/input/uwmgi-25d-stride2-dataset/images...</td>\n",
       "      <td>/kaggle/input/uwmgi-25d-stride2-dataset/masks/...</td>\n",
       "      <td>/kaggle/input/uw-madison-gi-tract-image-segmen...</td>\n",
       "    </tr>\n",
       "    <tr>\n",
       "      <th>3</th>\n",
       "      <td>case123_day20_slice_0004</td>\n",
       "      <td>123</td>\n",
       "      <td>20</td>\n",
       "      <td>4</td>\n",
       "      <td>266</td>\n",
       "      <td>266</td>\n",
       "      <td>['', '', '']</td>\n",
       "      <td>0</td>\n",
       "      <td>True</td>\n",
       "      <td>/kaggle/input/uwmgi-25d-stride2-dataset/images...</td>\n",
       "      <td>/kaggle/input/uwmgi-25d-stride2-dataset/masks/...</td>\n",
       "      <td>/kaggle/input/uw-madison-gi-tract-image-segmen...</td>\n",
       "    </tr>\n",
       "    <tr>\n",
       "      <th>4</th>\n",
       "      <td>case123_day20_slice_0005</td>\n",
       "      <td>123</td>\n",
       "      <td>20</td>\n",
       "      <td>5</td>\n",
       "      <td>266</td>\n",
       "      <td>266</td>\n",
       "      <td>['', '', '']</td>\n",
       "      <td>0</td>\n",
       "      <td>True</td>\n",
       "      <td>/kaggle/input/uwmgi-25d-stride2-dataset/images...</td>\n",
       "      <td>/kaggle/input/uwmgi-25d-stride2-dataset/masks/...</td>\n",
       "      <td>/kaggle/input/uw-madison-gi-tract-image-segmen...</td>\n",
       "    </tr>\n",
       "  </tbody>\n",
       "</table>\n",
       "</div>"
      ],
      "text/plain": [
       "                         id  case  day  slice  height  width  segmentation  \\\n",
       "0  case123_day20_slice_0001   123   20      1     266    266  ['', '', '']   \n",
       "1  case123_day20_slice_0002   123   20      2     266    266  ['', '', '']   \n",
       "2  case123_day20_slice_0003   123   20      3     266    266  ['', '', '']   \n",
       "3  case123_day20_slice_0004   123   20      4     266    266  ['', '', '']   \n",
       "4  case123_day20_slice_0005   123   20      5     266    266  ['', '', '']   \n",
       "\n",
       "   rle_len  empty                                         image_path  \\\n",
       "0        0   True  /kaggle/input/uwmgi-25d-stride2-dataset/images...   \n",
       "1        0   True  /kaggle/input/uwmgi-25d-stride2-dataset/images...   \n",
       "2        0   True  /kaggle/input/uwmgi-25d-stride2-dataset/images...   \n",
       "3        0   True  /kaggle/input/uwmgi-25d-stride2-dataset/images...   \n",
       "4        0   True  /kaggle/input/uwmgi-25d-stride2-dataset/images...   \n",
       "\n",
       "                                           mask_path  \\\n",
       "0  /kaggle/input/uwmgi-25d-stride2-dataset/masks/...   \n",
       "1  /kaggle/input/uwmgi-25d-stride2-dataset/masks/...   \n",
       "2  /kaggle/input/uwmgi-25d-stride2-dataset/masks/...   \n",
       "3  /kaggle/input/uwmgi-25d-stride2-dataset/masks/...   \n",
       "4  /kaggle/input/uwmgi-25d-stride2-dataset/masks/...   \n",
       "\n",
       "                                 original_image_path  \n",
       "0  /kaggle/input/uw-madison-gi-tract-image-segmen...  \n",
       "1  /kaggle/input/uw-madison-gi-tract-image-segmen...  \n",
       "2  /kaggle/input/uw-madison-gi-tract-image-segmen...  \n",
       "3  /kaggle/input/uw-madison-gi-tract-image-segmen...  \n",
       "4  /kaggle/input/uw-madison-gi-tract-image-segmen...  "
      ]
     },
     "execution_count": 6,
     "metadata": {},
     "output_type": "execute_result"
    }
   ],
   "source": [
    "df = pd.read_csv('/kaggle/input/gitractcsv/df25D.csv')\n",
    "df.head()"
   ]
  },
  {
   "cell_type": "markdown",
   "id": "7866e342",
   "metadata": {
    "papermill": {
     "duration": 0.027107,
     "end_time": "2023-03-25T19:28:03.533391",
     "exception": false,
     "start_time": "2023-03-25T19:28:03.506284",
     "status": "completed"
    },
    "tags": []
   },
   "source": [
    "## Class Distribution"
   ]
  },
  {
   "cell_type": "code",
   "execution_count": 7,
   "id": "53f5d256",
   "metadata": {
    "execution": {
     "iopub.execute_input": "2023-03-25T19:28:03.593984Z",
     "iopub.status.busy": "2023-03-25T19:28:03.593301Z",
     "iopub.status.idle": "2023-03-25T19:28:06.148640Z",
     "shell.execute_reply": "2023-03-25T19:28:06.148078Z",
     "shell.execute_reply.started": "2022-05-03T02:52:32.028165Z"
    },
    "papermill": {
     "duration": 2.587846,
     "end_time": "2023-03-25T19:28:06.148832",
     "exception": false,
     "start_time": "2023-03-25T19:28:03.560986",
     "status": "completed"
    },
    "tags": []
   },
   "outputs": [
    {
     "data": {
      "text/html": [
       "        <script type=\"text/javascript\">\n",
       "        window.PlotlyConfig = {MathJaxConfig: 'local'};\n",
       "        if (window.MathJax) {MathJax.Hub.Config({SVG: {font: \"STIX-Web\"}});}\n",
       "        if (typeof require !== 'undefined') {\n",
       "        require.undef(\"plotly\");\n",
       "        requirejs.config({\n",
       "            paths: {\n",
       "                'plotly': ['https://cdn.plot.ly/plotly-2.4.2.min']\n",
       "            }\n",
       "        });\n",
       "        require(['plotly'], function(Plotly) {\n",
       "            window._Plotly = Plotly;\n",
       "        });\n",
       "        }\n",
       "        </script>\n",
       "        "
      ]
     },
     "metadata": {},
     "output_type": "display_data"
    },
    {
     "data": {
      "text/html": [
       "<div>                            <div id=\"ba23dfaa-8b21-40af-9826-717f88a7d1b1\" class=\"plotly-graph-div\" style=\"height:525px; width:100%;\"></div>            <script type=\"text/javascript\">                require([\"plotly\"], function(Plotly) {                    window.PLOTLYENV=window.PLOTLYENV || {};                                    if (document.getElementById(\"ba23dfaa-8b21-40af-9826-717f88a7d1b1\")) {                    Plotly.newPlot(                        \"ba23dfaa-8b21-40af-9826-717f88a7d1b1\",                        [{\"alignmentgroup\":\"True\",\"hovertemplate\":\"variable=empty<br>index=%{x}<br>value=%{y}<extra></extra>\",\"legendgroup\":\"empty\",\"marker\":{\"color\":\"#636efa\",\"pattern\":{\"shape\":\"\"}},\"name\":\"empty\",\"offsetgroup\":\"empty\",\"orientation\":\"v\",\"showlegend\":true,\"textposition\":\"auto\",\"type\":\"bar\",\"x\":[true,false],\"xaxis\":\"x\",\"y\":[21715,16493],\"yaxis\":\"y\"}],                        {\"barmode\":\"relative\",\"legend\":{\"title\":{\"text\":\"variable\"},\"tracegroupgap\":0},\"margin\":{\"t\":60},\"template\":{\"data\":{\"bar\":[{\"error_x\":{\"color\":\"#2a3f5f\"},\"error_y\":{\"color\":\"#2a3f5f\"},\"marker\":{\"line\":{\"color\":\"#E5ECF6\",\"width\":0.5},\"pattern\":{\"fillmode\":\"overlay\",\"size\":10,\"solidity\":0.2}},\"type\":\"bar\"}],\"barpolar\":[{\"marker\":{\"line\":{\"color\":\"#E5ECF6\",\"width\":0.5},\"pattern\":{\"fillmode\":\"overlay\",\"size\":10,\"solidity\":0.2}},\"type\":\"barpolar\"}],\"carpet\":[{\"aaxis\":{\"endlinecolor\":\"#2a3f5f\",\"gridcolor\":\"white\",\"linecolor\":\"white\",\"minorgridcolor\":\"white\",\"startlinecolor\":\"#2a3f5f\"},\"baxis\":{\"endlinecolor\":\"#2a3f5f\",\"gridcolor\":\"white\",\"linecolor\":\"white\",\"minorgridcolor\":\"white\",\"startlinecolor\":\"#2a3f5f\"},\"type\":\"carpet\"}],\"choropleth\":[{\"colorbar\":{\"outlinewidth\":0,\"ticks\":\"\"},\"type\":\"choropleth\"}],\"contour\":[{\"colorbar\":{\"outlinewidth\":0,\"ticks\":\"\"},\"colorscale\":[[0.0,\"#0d0887\"],[0.1111111111111111,\"#46039f\"],[0.2222222222222222,\"#7201a8\"],[0.3333333333333333,\"#9c179e\"],[0.4444444444444444,\"#bd3786\"],[0.5555555555555556,\"#d8576b\"],[0.6666666666666666,\"#ed7953\"],[0.7777777777777778,\"#fb9f3a\"],[0.8888888888888888,\"#fdca26\"],[1.0,\"#f0f921\"]],\"type\":\"contour\"}],\"contourcarpet\":[{\"colorbar\":{\"outlinewidth\":0,\"ticks\":\"\"},\"type\":\"contourcarpet\"}],\"heatmap\":[{\"colorbar\":{\"outlinewidth\":0,\"ticks\":\"\"},\"colorscale\":[[0.0,\"#0d0887\"],[0.1111111111111111,\"#46039f\"],[0.2222222222222222,\"#7201a8\"],[0.3333333333333333,\"#9c179e\"],[0.4444444444444444,\"#bd3786\"],[0.5555555555555556,\"#d8576b\"],[0.6666666666666666,\"#ed7953\"],[0.7777777777777778,\"#fb9f3a\"],[0.8888888888888888,\"#fdca26\"],[1.0,\"#f0f921\"]],\"type\":\"heatmap\"}],\"heatmapgl\":[{\"colorbar\":{\"outlinewidth\":0,\"ticks\":\"\"},\"colorscale\":[[0.0,\"#0d0887\"],[0.1111111111111111,\"#46039f\"],[0.2222222222222222,\"#7201a8\"],[0.3333333333333333,\"#9c179e\"],[0.4444444444444444,\"#bd3786\"],[0.5555555555555556,\"#d8576b\"],[0.6666666666666666,\"#ed7953\"],[0.7777777777777778,\"#fb9f3a\"],[0.8888888888888888,\"#fdca26\"],[1.0,\"#f0f921\"]],\"type\":\"heatmapgl\"}],\"histogram\":[{\"marker\":{\"pattern\":{\"fillmode\":\"overlay\",\"size\":10,\"solidity\":0.2}},\"type\":\"histogram\"}],\"histogram2d\":[{\"colorbar\":{\"outlinewidth\":0,\"ticks\":\"\"},\"colorscale\":[[0.0,\"#0d0887\"],[0.1111111111111111,\"#46039f\"],[0.2222222222222222,\"#7201a8\"],[0.3333333333333333,\"#9c179e\"],[0.4444444444444444,\"#bd3786\"],[0.5555555555555556,\"#d8576b\"],[0.6666666666666666,\"#ed7953\"],[0.7777777777777778,\"#fb9f3a\"],[0.8888888888888888,\"#fdca26\"],[1.0,\"#f0f921\"]],\"type\":\"histogram2d\"}],\"histogram2dcontour\":[{\"colorbar\":{\"outlinewidth\":0,\"ticks\":\"\"},\"colorscale\":[[0.0,\"#0d0887\"],[0.1111111111111111,\"#46039f\"],[0.2222222222222222,\"#7201a8\"],[0.3333333333333333,\"#9c179e\"],[0.4444444444444444,\"#bd3786\"],[0.5555555555555556,\"#d8576b\"],[0.6666666666666666,\"#ed7953\"],[0.7777777777777778,\"#fb9f3a\"],[0.8888888888888888,\"#fdca26\"],[1.0,\"#f0f921\"]],\"type\":\"histogram2dcontour\"}],\"mesh3d\":[{\"colorbar\":{\"outlinewidth\":0,\"ticks\":\"\"},\"type\":\"mesh3d\"}],\"parcoords\":[{\"line\":{\"colorbar\":{\"outlinewidth\":0,\"ticks\":\"\"}},\"type\":\"parcoords\"}],\"pie\":[{\"automargin\":true,\"type\":\"pie\"}],\"scatter\":[{\"marker\":{\"colorbar\":{\"outlinewidth\":0,\"ticks\":\"\"}},\"type\":\"scatter\"}],\"scatter3d\":[{\"line\":{\"colorbar\":{\"outlinewidth\":0,\"ticks\":\"\"}},\"marker\":{\"colorbar\":{\"outlinewidth\":0,\"ticks\":\"\"}},\"type\":\"scatter3d\"}],\"scattercarpet\":[{\"marker\":{\"colorbar\":{\"outlinewidth\":0,\"ticks\":\"\"}},\"type\":\"scattercarpet\"}],\"scattergeo\":[{\"marker\":{\"colorbar\":{\"outlinewidth\":0,\"ticks\":\"\"}},\"type\":\"scattergeo\"}],\"scattergl\":[{\"marker\":{\"colorbar\":{\"outlinewidth\":0,\"ticks\":\"\"}},\"type\":\"scattergl\"}],\"scattermapbox\":[{\"marker\":{\"colorbar\":{\"outlinewidth\":0,\"ticks\":\"\"}},\"type\":\"scattermapbox\"}],\"scatterpolar\":[{\"marker\":{\"colorbar\":{\"outlinewidth\":0,\"ticks\":\"\"}},\"type\":\"scatterpolar\"}],\"scatterpolargl\":[{\"marker\":{\"colorbar\":{\"outlinewidth\":0,\"ticks\":\"\"}},\"type\":\"scatterpolargl\"}],\"scatterternary\":[{\"marker\":{\"colorbar\":{\"outlinewidth\":0,\"ticks\":\"\"}},\"type\":\"scatterternary\"}],\"surface\":[{\"colorbar\":{\"outlinewidth\":0,\"ticks\":\"\"},\"colorscale\":[[0.0,\"#0d0887\"],[0.1111111111111111,\"#46039f\"],[0.2222222222222222,\"#7201a8\"],[0.3333333333333333,\"#9c179e\"],[0.4444444444444444,\"#bd3786\"],[0.5555555555555556,\"#d8576b\"],[0.6666666666666666,\"#ed7953\"],[0.7777777777777778,\"#fb9f3a\"],[0.8888888888888888,\"#fdca26\"],[1.0,\"#f0f921\"]],\"type\":\"surface\"}],\"table\":[{\"cells\":{\"fill\":{\"color\":\"#EBF0F8\"},\"line\":{\"color\":\"white\"}},\"header\":{\"fill\":{\"color\":\"#C8D4E3\"},\"line\":{\"color\":\"white\"}},\"type\":\"table\"}]},\"layout\":{\"annotationdefaults\":{\"arrowcolor\":\"#2a3f5f\",\"arrowhead\":0,\"arrowwidth\":1},\"autotypenumbers\":\"strict\",\"coloraxis\":{\"colorbar\":{\"outlinewidth\":0,\"ticks\":\"\"}},\"colorscale\":{\"diverging\":[[0,\"#8e0152\"],[0.1,\"#c51b7d\"],[0.2,\"#de77ae\"],[0.3,\"#f1b6da\"],[0.4,\"#fde0ef\"],[0.5,\"#f7f7f7\"],[0.6,\"#e6f5d0\"],[0.7,\"#b8e186\"],[0.8,\"#7fbc41\"],[0.9,\"#4d9221\"],[1,\"#276419\"]],\"sequential\":[[0.0,\"#0d0887\"],[0.1111111111111111,\"#46039f\"],[0.2222222222222222,\"#7201a8\"],[0.3333333333333333,\"#9c179e\"],[0.4444444444444444,\"#bd3786\"],[0.5555555555555556,\"#d8576b\"],[0.6666666666666666,\"#ed7953\"],[0.7777777777777778,\"#fb9f3a\"],[0.8888888888888888,\"#fdca26\"],[1.0,\"#f0f921\"]],\"sequentialminus\":[[0.0,\"#0d0887\"],[0.1111111111111111,\"#46039f\"],[0.2222222222222222,\"#7201a8\"],[0.3333333333333333,\"#9c179e\"],[0.4444444444444444,\"#bd3786\"],[0.5555555555555556,\"#d8576b\"],[0.6666666666666666,\"#ed7953\"],[0.7777777777777778,\"#fb9f3a\"],[0.8888888888888888,\"#fdca26\"],[1.0,\"#f0f921\"]]},\"colorway\":[\"#636efa\",\"#EF553B\",\"#00cc96\",\"#ab63fa\",\"#FFA15A\",\"#19d3f3\",\"#FF6692\",\"#B6E880\",\"#FF97FF\",\"#FECB52\"],\"font\":{\"color\":\"#2a3f5f\"},\"geo\":{\"bgcolor\":\"white\",\"lakecolor\":\"white\",\"landcolor\":\"#E5ECF6\",\"showlakes\":true,\"showland\":true,\"subunitcolor\":\"white\"},\"hoverlabel\":{\"align\":\"left\"},\"hovermode\":\"closest\",\"mapbox\":{\"style\":\"light\"},\"paper_bgcolor\":\"white\",\"plot_bgcolor\":\"#E5ECF6\",\"polar\":{\"angularaxis\":{\"gridcolor\":\"white\",\"linecolor\":\"white\",\"ticks\":\"\"},\"bgcolor\":\"#E5ECF6\",\"radialaxis\":{\"gridcolor\":\"white\",\"linecolor\":\"white\",\"ticks\":\"\"}},\"scene\":{\"xaxis\":{\"backgroundcolor\":\"#E5ECF6\",\"gridcolor\":\"white\",\"gridwidth\":2,\"linecolor\":\"white\",\"showbackground\":true,\"ticks\":\"\",\"zerolinecolor\":\"white\"},\"yaxis\":{\"backgroundcolor\":\"#E5ECF6\",\"gridcolor\":\"white\",\"gridwidth\":2,\"linecolor\":\"white\",\"showbackground\":true,\"ticks\":\"\",\"zerolinecolor\":\"white\"},\"zaxis\":{\"backgroundcolor\":\"#E5ECF6\",\"gridcolor\":\"white\",\"gridwidth\":2,\"linecolor\":\"white\",\"showbackground\":true,\"ticks\":\"\",\"zerolinecolor\":\"white\"}},\"shapedefaults\":{\"line\":{\"color\":\"#2a3f5f\"}},\"ternary\":{\"aaxis\":{\"gridcolor\":\"white\",\"linecolor\":\"white\",\"ticks\":\"\"},\"baxis\":{\"gridcolor\":\"white\",\"linecolor\":\"white\",\"ticks\":\"\"},\"bgcolor\":\"#E5ECF6\",\"caxis\":{\"gridcolor\":\"white\",\"linecolor\":\"white\",\"ticks\":\"\"}},\"title\":{\"x\":0.05},\"xaxis\":{\"automargin\":true,\"gridcolor\":\"white\",\"linecolor\":\"white\",\"ticks\":\"\",\"title\":{\"standoff\":15},\"zerolinecolor\":\"white\",\"zerolinewidth\":2},\"yaxis\":{\"automargin\":true,\"gridcolor\":\"white\",\"linecolor\":\"white\",\"ticks\":\"\",\"title\":{\"standoff\":15},\"zerolinecolor\":\"white\",\"zerolinewidth\":2}}},\"xaxis\":{\"anchor\":\"y\",\"domain\":[0.0,1.0],\"title\":{\"text\":\"index\"}},\"yaxis\":{\"anchor\":\"x\",\"domain\":[0.0,1.0],\"title\":{\"text\":\"value\"}}},                        {\"responsive\": true}                    ).then(function(){\n",
       "                            \n",
       "var gd = document.getElementById('ba23dfaa-8b21-40af-9826-717f88a7d1b1');\n",
       "var x = new MutationObserver(function (mutations, observer) {{\n",
       "        var display = window.getComputedStyle(gd).display;\n",
       "        if (!display || display === 'none') {{\n",
       "            console.log([gd, 'removed!']);\n",
       "            Plotly.purge(gd);\n",
       "            observer.disconnect();\n",
       "        }}\n",
       "}});\n",
       "\n",
       "// Listen for the removal of the full notebook cells\n",
       "var notebookContainer = gd.closest('#notebook-container');\n",
       "if (notebookContainer) {{\n",
       "    x.observe(notebookContainer, {childList: true});\n",
       "}}\n",
       "\n",
       "// Listen for the clearing of the current output cell\n",
       "var outputEl = gd.closest('.output');\n",
       "if (outputEl) {{\n",
       "    x.observe(outputEl, {childList: true});\n",
       "}}\n",
       "\n",
       "                        })                };                });            </script>        </div>"
      ]
     },
     "metadata": {},
     "output_type": "display_data"
    }
   ],
   "source": [
    "df['empty'].value_counts().plot.bar()"
   ]
  },
  {
   "cell_type": "markdown",
   "id": "d1e06ff2",
   "metadata": {
    "papermill": {
     "duration": 0.028437,
     "end_time": "2023-03-25T19:28:06.205995",
     "exception": false,
     "start_time": "2023-03-25T19:28:06.177558",
     "status": "completed"
    },
    "tags": []
   },
   "source": [
    "# 🔨 Utility"
   ]
  },
  {
   "cell_type": "markdown",
   "id": "4605607d",
   "metadata": {
    "papermill": {
     "duration": 0.028472,
     "end_time": "2023-03-25T19:28:06.263252",
     "exception": false,
     "start_time": "2023-03-25T19:28:06.234780",
     "status": "completed"
    },
    "tags": []
   },
   "source": [
    "## Mask"
   ]
  },
  {
   "cell_type": "code",
   "execution_count": 8,
   "id": "c1523b8e",
   "metadata": {
    "execution": {
     "iopub.execute_input": "2023-03-25T19:28:06.329485Z",
     "iopub.status.busy": "2023-03-25T19:28:06.328341Z",
     "iopub.status.idle": "2023-03-25T19:28:06.404605Z",
     "shell.execute_reply": "2023-03-25T19:28:06.404112Z",
     "shell.execute_reply.started": "2022-05-03T02:52:34.958694Z"
    },
    "papermill": {
     "duration": 0.111246,
     "end_time": "2023-03-25T19:28:06.404746",
     "exception": false,
     "start_time": "2023-03-25T19:28:06.293500",
     "status": "completed"
    },
    "tags": []
   },
   "outputs": [],
   "source": [
    "def id2mask(id_):\n",
    "    idf = df[df['id']==id_]\n",
    "    wh = idf[['height','width']].iloc[0]\n",
    "    shape = (wh.height, wh.width, 3)\n",
    "    mask = np.zeros(shape, dtype=np.uint8)\n",
    "    for i, class_ in enumerate(['large_bowel', 'small_bowel', 'stomach']):\n",
    "        cdf = idf[idf['class']==class_]\n",
    "        rle = cdf.segmentation.squeeze()\n",
    "        if len(cdf) and not pd.isna(rle):\n",
    "            mask[..., i] = rle_decode(rle, shape[:2])\n",
    "    return mask\n",
    "\n",
    "def rgb2gray(mask):\n",
    "    pad_mask = np.pad(mask, pad_width=[(0,0),(0,0),(1,0)])\n",
    "    gray_mask = pad_mask.argmax(-1)\n",
    "    return gray_mask\n",
    "\n",
    "def gray2rgb(mask):\n",
    "    rgb_mask = tf.keras.utils.to_categorical(mask, num_classes=4)\n",
    "    return rgb_mask[..., 1:].astype(mask.dtype)"
   ]
  },
  {
   "cell_type": "markdown",
   "id": "a6f4148a",
   "metadata": {
    "papermill": {
     "duration": 0.028431,
     "end_time": "2023-03-25T19:28:06.461545",
     "exception": false,
     "start_time": "2023-03-25T19:28:06.433114",
     "status": "completed"
    },
    "tags": []
   },
   "source": [
    "## Image"
   ]
  },
  {
   "cell_type": "code",
   "execution_count": 9,
   "id": "994d45a0",
   "metadata": {
    "execution": {
     "iopub.execute_input": "2023-03-25T19:28:06.526300Z",
     "iopub.status.busy": "2023-03-25T19:28:06.522590Z",
     "iopub.status.idle": "2023-03-25T19:28:06.601432Z",
     "shell.execute_reply": "2023-03-25T19:28:06.600907Z",
     "shell.execute_reply.started": "2022-05-03T02:52:35.061165Z"
    },
    "papermill": {
     "duration": 0.110939,
     "end_time": "2023-03-25T19:28:06.601569",
     "exception": false,
     "start_time": "2023-03-25T19:28:06.490630",
     "status": "completed"
    },
    "tags": []
   },
   "outputs": [],
   "source": [
    "def load_img(path):\n",
    "    img = np.load(path)\n",
    "    img = img.astype('float32') # original is uint16\n",
    "    mx = np.max(img)\n",
    "    if mx:\n",
    "        img/=mx # scale image to [0, 1]\n",
    "    return img\n",
    "\n",
    "def load_msk(path):\n",
    "    msk = np.load(path)\n",
    "    msk = msk.astype('float32')\n",
    "    msk/=255.0\n",
    "    return msk\n",
    "    \n",
    "\n",
    "def show_img(img, mask=None):\n",
    "    clahe = cv2.createCLAHE(clipLimit=2.0, tileGridSize=(8,8))\n",
    "#     img = clahe.apply(img)\n",
    "#     plt.figure(figsize=(10,10))\n",
    "    plt.imshow(img, cmap='bone')\n",
    "    \n",
    "    if mask is not None:\n",
    "        # plt.imshow(np.ma.masked_where(mask!=1, mask), alpha=0.5, cmap='autumn')\n",
    "        plt.imshow(mask, alpha=0.5)\n",
    "        handles = [Rectangle((0,0),1,1, color=_c) for _c in [(0.667,0.0,0.0), (0.0,0.667,0.0), (0.0,0.0,0.667)]]\n",
    "        labels = [\"Large Bowel\", \"Small Bowel\", \"Stomach\"]\n",
    "        plt.legend(handles,labels)\n",
    "    plt.axis('off')"
   ]
  },
  {
   "cell_type": "markdown",
   "id": "7ca7f86f",
   "metadata": {
    "papermill": {
     "duration": 0.028122,
     "end_time": "2023-03-25T19:28:06.658188",
     "exception": false,
     "start_time": "2023-03-25T19:28:06.630066",
     "status": "completed"
    },
    "tags": []
   },
   "source": [
    "## RLE"
   ]
  },
  {
   "cell_type": "code",
   "execution_count": 10,
   "id": "103f63cc",
   "metadata": {
    "execution": {
     "iopub.execute_input": "2023-03-25T19:28:06.722400Z",
     "iopub.status.busy": "2023-03-25T19:28:06.721535Z",
     "iopub.status.idle": "2023-03-25T19:28:06.796488Z",
     "shell.execute_reply": "2023-03-25T19:28:06.796026Z",
     "shell.execute_reply.started": "2022-05-03T02:52:35.156947Z"
    },
    "papermill": {
     "duration": 0.109844,
     "end_time": "2023-03-25T19:28:06.796629",
     "exception": false,
     "start_time": "2023-03-25T19:28:06.686785",
     "status": "completed"
    },
    "tags": []
   },
   "outputs": [],
   "source": [
    "# ref: https://www.kaggle.com/paulorzp/run-length-encode-and-decode\n",
    "def rle_decode(mask_rle, shape):\n",
    "    '''\n",
    "    mask_rle: run-length as string formated (start length)\n",
    "    shape: (height,width) of array to return \n",
    "    Returns numpy array, 1 - mask, 0 - background\n",
    "\n",
    "    '''\n",
    "    s = mask_rle.split()\n",
    "    starts, lengths = [np.asarray(x, dtype=int) for x in (s[0:][::2], s[1:][::2])]\n",
    "    starts -= 1\n",
    "    ends = starts + lengths\n",
    "    img = np.zeros(shape[0]*shape[1], dtype=np.uint8)\n",
    "    for lo, hi in zip(starts, ends):\n",
    "        img[lo:hi] = 1\n",
    "    return img.reshape(shape)  # Needed to align to RLE direction\n",
    "\n",
    "\n",
    "# ref.: https://www.kaggle.com/stainsby/fast-tested-rle\n",
    "def rle_encode(img):\n",
    "    '''\n",
    "    img: numpy array, 1 - mask, 0 - background\n",
    "    Returns run length as string formated\n",
    "    '''\n",
    "    pixels = img.flatten()\n",
    "    pixels = np.concatenate([[0], pixels, [0]])\n",
    "    runs = np.where(pixels[1:] != pixels[:-1])[0] + 1\n",
    "    runs[1::2] -= runs[::2]\n",
    "    return ' '.join(str(x) for x in runs)"
   ]
  },
  {
   "cell_type": "markdown",
   "id": "ad6a5c28",
   "metadata": {
    "papermill": {
     "duration": 0.030167,
     "end_time": "2023-03-25T19:28:06.856357",
     "exception": false,
     "start_time": "2023-03-25T19:28:06.826190",
     "status": "completed"
    },
    "tags": []
   },
   "source": [
    "# 📁 Create Folds"
   ]
  },
  {
   "cell_type": "code",
   "execution_count": 11,
   "id": "9cf15fa2",
   "metadata": {
    "execution": {
     "iopub.execute_input": "2023-03-25T19:28:06.920482Z",
     "iopub.status.busy": "2023-03-25T19:28:06.919569Z",
     "iopub.status.idle": "2023-03-25T19:28:07.110066Z",
     "shell.execute_reply": "2023-03-25T19:28:07.110503Z",
     "shell.execute_reply.started": "2022-05-03T02:52:35.253249Z"
    },
    "papermill": {
     "duration": 0.225237,
     "end_time": "2023-03-25T19:28:07.110676",
     "exception": false,
     "start_time": "2023-03-25T19:28:06.885439",
     "status": "completed"
    },
    "tags": []
   },
   "outputs": [
    {
     "data": {
      "text/plain": [
       "fold  empty\n",
       "0.0   False    3374\n",
       "      True     4706\n",
       "1.0   False    4112\n",
       "      True     4896\n",
       "2.0   False    2973\n",
       "      True     3827\n",
       "3.0   False    3407\n",
       "      True     4689\n",
       "4.0   False    2627\n",
       "      True     3597\n",
       "Name: id, dtype: int64"
      ]
     },
     "metadata": {},
     "output_type": "display_data"
    }
   ],
   "source": [
    "skf = StratifiedGroupKFold(n_splits=CFG.n_fold, shuffle=True, random_state=CFG.seed)\n",
    "for fold, (train_idx, val_idx) in enumerate(skf.split(df, df['empty'], groups = df[\"case\"])):\n",
    "    df.loc[val_idx, 'fold'] = fold\n",
    "display(df.groupby(['fold','empty'])['id'].count())"
   ]
  },
  {
   "cell_type": "markdown",
   "id": "909dde38",
   "metadata": {
    "papermill": {
     "duration": 0.028345,
     "end_time": "2023-03-25T19:28:07.168091",
     "exception": false,
     "start_time": "2023-03-25T19:28:07.139746",
     "status": "completed"
    },
    "tags": []
   },
   "source": [
    "# 🍚 Dataset"
   ]
  },
  {
   "cell_type": "code",
   "execution_count": 12,
   "id": "34a86229",
   "metadata": {
    "execution": {
     "iopub.execute_input": "2023-03-25T19:28:07.234157Z",
     "iopub.status.busy": "2023-03-25T19:28:07.233390Z",
     "iopub.status.idle": "2023-03-25T19:28:07.309289Z",
     "shell.execute_reply": "2023-03-25T19:28:07.308769Z",
     "shell.execute_reply.started": "2022-05-03T02:52:35.568513Z"
    },
    "papermill": {
     "duration": 0.112979,
     "end_time": "2023-03-25T19:28:07.309428",
     "exception": false,
     "start_time": "2023-03-25T19:28:07.196449",
     "status": "completed"
    },
    "tags": []
   },
   "outputs": [],
   "source": [
    "class BuildDataset(torch.utils.data.Dataset):\n",
    "    def __init__(self, df, label=True, transforms=None):\n",
    "        self.df         = df\n",
    "        self.label      = label\n",
    "        self.img_paths  = df['image_path'].tolist()\n",
    "        self.msk_paths  = df['mask_path'].tolist()\n",
    "        self.transforms = transforms\n",
    "        \n",
    "    def __len__(self):\n",
    "        return len(self.df)\n",
    "    \n",
    "    def __getitem__(self, index):\n",
    "        img_path  = self.img_paths[index]\n",
    "        img = []\n",
    "        img = load_img(img_path)\n",
    "        \n",
    "        if self.label:\n",
    "            msk_path = self.msk_paths[index]\n",
    "            msk = load_msk(msk_path)\n",
    "            if self.transforms:\n",
    "                data = self.transforms(image=img, mask=msk)\n",
    "                img  = data['image']\n",
    "                msk  = data['mask']\n",
    "            img = np.transpose(img, (2, 0, 1))\n",
    "            msk = np.transpose(msk, (2, 0, 1))\n",
    "            return torch.tensor(img), torch.tensor(msk)\n",
    "        else:\n",
    "            if self.transforms:\n",
    "                data = self.transforms(image=img)\n",
    "                img  = data['image']\n",
    "            img = np.transpose(img, (2, 0, 1))\n",
    "            return torch.tensor(img)"
   ]
  },
  {
   "cell_type": "markdown",
   "id": "aee041cb",
   "metadata": {
    "papermill": {
     "duration": 0.029079,
     "end_time": "2023-03-25T19:28:07.367358",
     "exception": false,
     "start_time": "2023-03-25T19:28:07.338279",
     "status": "completed"
    },
    "tags": []
   },
   "source": [
    "# 🌈 Augmentations"
   ]
  },
  {
   "cell_type": "code",
   "execution_count": 13,
   "id": "54fa6cc1",
   "metadata": {
    "_kg_hide-output": true,
    "execution": {
     "iopub.execute_input": "2023-03-25T19:28:07.430385Z",
     "iopub.status.busy": "2023-03-25T19:28:07.429809Z",
     "iopub.status.idle": "2023-03-25T19:28:07.504108Z",
     "shell.execute_reply": "2023-03-25T19:28:07.503486Z",
     "shell.execute_reply.started": "2022-05-03T02:52:35.671068Z"
    },
    "papermill": {
     "duration": 0.108341,
     "end_time": "2023-03-25T19:28:07.504236",
     "exception": false,
     "start_time": "2023-03-25T19:28:07.395895",
     "status": "completed"
    },
    "tags": []
   },
   "outputs": [],
   "source": [
    "data_transforms = {\n",
    "    \"train\": A.Compose([\n",
    "#         A.Resize(*CFG.img_size, interpolation=cv2.INTER_NEAREST),\n",
    "        A.HorizontalFlip(p=0.5),\n",
    "#         A.VerticalFlip(p=0.5),\n",
    "        A.ShiftScaleRotate(shift_limit=0.0625, scale_limit=0.05, rotate_limit=10, p=0.5),\n",
    "        A.OneOf([\n",
    "            A.GridDistortion(num_steps=5, distort_limit=0.05, p=1.0),\n",
    "# #             A.OpticalDistortion(distort_limit=0.05, shift_limit=0.05, p=1.0),\n",
    "            A.ElasticTransform(alpha=1, sigma=50, alpha_affine=50, p=1.0)\n",
    "        ], p=0.25),\n",
    "        A.CoarseDropout(max_holes=8, max_height=CFG.img_size[0]//20, max_width=CFG.img_size[1]//20,\n",
    "                         min_holes=5, fill_value=0, mask_fill_value=0, p=0.5),\n",
    "        ], p=1.0),\n",
    "    \n",
    "    \"valid\": A.Compose([\n",
    "#         A.Resize(*CFG.img_size, interpolation=cv2.INTER_NEAREST),\n",
    "        ], p=1.0)\n",
    "}"
   ]
  },
  {
   "cell_type": "markdown",
   "id": "14f5c259",
   "metadata": {
    "papermill": {
     "duration": 0.028011,
     "end_time": "2023-03-25T19:28:07.560987",
     "exception": false,
     "start_time": "2023-03-25T19:28:07.532976",
     "status": "completed"
    },
    "tags": []
   },
   "source": [
    "# 🍰 DataLoader"
   ]
  },
  {
   "cell_type": "code",
   "execution_count": 14,
   "id": "55abdf16",
   "metadata": {
    "execution": {
     "iopub.execute_input": "2023-03-25T19:28:07.632730Z",
     "iopub.status.busy": "2023-03-25T19:28:07.631864Z",
     "iopub.status.idle": "2023-03-25T19:28:07.705577Z",
     "shell.execute_reply": "2023-03-25T19:28:07.705157Z",
     "shell.execute_reply.started": "2022-05-03T02:52:35.76914Z"
    },
    "papermill": {
     "duration": 0.116563,
     "end_time": "2023-03-25T19:28:07.705719",
     "exception": false,
     "start_time": "2023-03-25T19:28:07.589156",
     "status": "completed"
    },
    "tags": []
   },
   "outputs": [],
   "source": [
    "def prepare_loaders(fold, debug=False):\n",
    "    train_df = df.query(\"fold!=@fold\").reset_index(drop=True)\n",
    "    valid_df = df.query(\"fold==@fold\").reset_index(drop=True)\n",
    "    if debug:\n",
    "        train_df = train_df.head(32*5).query(\"empty==0\")\n",
    "        valid_df = valid_df.head(32*3).query(\"empty==0\")\n",
    "    train_dataset = BuildDataset(train_df, transforms=data_transforms['train'])\n",
    "    valid_dataset = BuildDataset(valid_df, transforms=data_transforms['valid'])\n",
    "\n",
    "    train_loader = DataLoader(train_dataset, batch_size=CFG.train_bs if not debug else 20, \n",
    "                              num_workers=4, shuffle=True, pin_memory=True, drop_last=False)\n",
    "    valid_loader = DataLoader(valid_dataset, batch_size=CFG.valid_bs if not debug else 20, \n",
    "                              num_workers=4, shuffle=False, pin_memory=True)\n",
    "    \n",
    "    return train_loader, valid_loader\n"
   ]
  },
  {
   "cell_type": "code",
   "execution_count": 15,
   "id": "29fa6216",
   "metadata": {
    "execution": {
     "iopub.execute_input": "2023-03-25T19:28:07.766538Z",
     "iopub.status.busy": "2023-03-25T19:28:07.765723Z",
     "iopub.status.idle": "2023-03-25T19:28:07.864936Z",
     "shell.execute_reply": "2023-03-25T19:28:07.863771Z",
     "shell.execute_reply.started": "2022-05-03T02:52:35.864636Z"
    },
    "papermill": {
     "duration": 0.131052,
     "end_time": "2023-03-25T19:28:07.865087",
     "exception": false,
     "start_time": "2023-03-25T19:28:07.734035",
     "status": "completed"
    },
    "tags": []
   },
   "outputs": [],
   "source": [
    "train_loader, valid_loader = prepare_loaders(fold=0, debug=True)"
   ]
  },
  {
   "cell_type": "code",
   "execution_count": 16,
   "id": "92d67dcb",
   "metadata": {
    "execution": {
     "iopub.execute_input": "2023-03-25T19:28:07.928649Z",
     "iopub.status.busy": "2023-03-25T19:28:07.927172Z",
     "iopub.status.idle": "2023-03-25T19:28:16.008970Z",
     "shell.execute_reply": "2023-03-25T19:28:16.009407Z",
     "shell.execute_reply.started": "2022-05-03T02:52:36.231787Z"
    },
    "papermill": {
     "duration": 8.115274,
     "end_time": "2023-03-25T19:28:16.009581",
     "exception": false,
     "start_time": "2023-03-25T19:28:07.894307",
     "status": "completed"
    },
    "tags": []
   },
   "outputs": [
    {
     "data": {
      "text/plain": [
       "(torch.Size([20, 3, 320, 384]), torch.Size([20, 3, 320, 384]))"
      ]
     },
     "execution_count": 16,
     "metadata": {},
     "output_type": "execute_result"
    }
   ],
   "source": [
    "imgs, msks = next(iter(train_loader))\n",
    "imgs.size(), msks.size()"
   ]
  },
  {
   "cell_type": "markdown",
   "id": "72fc3ea7",
   "metadata": {
    "papermill": {
     "duration": 0.029948,
     "end_time": "2023-03-25T19:28:16.070771",
     "exception": false,
     "start_time": "2023-03-25T19:28:16.040823",
     "status": "completed"
    },
    "tags": []
   },
   "source": [
    "# 📈 Visualization"
   ]
  },
  {
   "cell_type": "code",
   "execution_count": 17,
   "id": "e6f33f00",
   "metadata": {
    "_kg_hide-input": true,
    "execution": {
     "iopub.execute_input": "2023-03-25T19:28:16.137427Z",
     "iopub.status.busy": "2023-03-25T19:28:16.136507Z",
     "iopub.status.idle": "2023-03-25T19:28:16.224243Z",
     "shell.execute_reply": "2023-03-25T19:28:16.223535Z",
     "shell.execute_reply.started": "2022-05-03T02:52:44.642502Z"
    },
    "papermill": {
     "duration": 0.122936,
     "end_time": "2023-03-25T19:28:16.224390",
     "exception": false,
     "start_time": "2023-03-25T19:28:16.101454",
     "status": "completed"
    },
    "tags": []
   },
   "outputs": [],
   "source": [
    "def plot_batch(imgs, msks, size=3):\n",
    "    plt.figure(figsize=(5*5, 5))\n",
    "    for idx in range(size):\n",
    "        plt.subplot(1, 5, idx+1)\n",
    "        img = imgs[idx,].permute((1, 2, 0)).numpy()*255.0\n",
    "        img = img.astype('uint8')\n",
    "        msk = msks[idx,].permute((1, 2, 0)).numpy()*255.0\n",
    "        show_img(img, msk)\n",
    "    plt.tight_layout()\n",
    "    plt.show()"
   ]
  },
  {
   "cell_type": "code",
   "execution_count": 18,
   "id": "ece3a753",
   "metadata": {
    "execution": {
     "iopub.execute_input": "2023-03-25T19:28:16.287887Z",
     "iopub.status.busy": "2023-03-25T19:28:16.285495Z",
     "iopub.status.idle": "2023-03-25T19:28:16.629655Z",
     "shell.execute_reply": "2023-03-25T19:28:16.630136Z",
     "shell.execute_reply.started": "2022-05-03T02:52:46.393683Z"
    },
    "papermill": {
     "duration": 0.376755,
     "end_time": "2023-03-25T19:28:16.630291",
     "exception": false,
     "start_time": "2023-03-25T19:28:16.253536",
     "status": "completed"
    },
    "tags": []
   },
   "outputs": [
    {
     "data": {
      "text/plain": [
       "92"
      ]
     },
     "execution_count": 18,
     "metadata": {},
     "output_type": "execute_result"
    }
   ],
   "source": [
    "import gc\n",
    "gc.collect()"
   ]
  },
  {
   "cell_type": "markdown",
   "id": "3f775b99",
   "metadata": {
    "papermill": {
     "duration": 0.029304,
     "end_time": "2023-03-25T19:28:16.689070",
     "exception": false,
     "start_time": "2023-03-25T19:28:16.659766",
     "status": "completed"
    },
    "tags": []
   },
   "source": [
    "# 📦 Model\n"
   ]
  },
  {
   "cell_type": "code",
   "execution_count": 19,
   "id": "6e724811",
   "metadata": {
    "execution": {
     "iopub.execute_input": "2023-03-25T19:28:16.751385Z",
     "iopub.status.busy": "2023-03-25T19:28:16.750557Z",
     "iopub.status.idle": "2023-03-25T19:28:17.898306Z",
     "shell.execute_reply": "2023-03-25T19:28:17.897241Z",
     "shell.execute_reply.started": "2022-05-03T02:52:46.906565Z"
    },
    "papermill": {
     "duration": 1.180164,
     "end_time": "2023-03-25T19:28:17.898462",
     "exception": false,
     "start_time": "2023-03-25T19:28:16.718298",
     "status": "completed"
    },
    "tags": []
   },
   "outputs": [],
   "source": [
    "import segmentation_models_pytorch as smp\n",
    "\n",
    "def build_model():\n",
    "    model = smp.Unet(\n",
    "        encoder_name=CFG.backbone,      # choose encoder, e.g. mobilenet_v2 or efficientnet-b7\n",
    "        encoder_weights=\"imagenet\",     # use `imagenet` pre-trained weights for encoder initialization\n",
    "        in_channels=3,                  # model input channels (1 for gray-scale images, 3 for RGB, etc.)\n",
    "        classes=CFG.num_classes,        # model output channels (number of classes in your dataset)\n",
    "        activation=None,\n",
    "    )\n",
    "    model.to(CFG.device)\n",
    "    return model\n",
    "\n",
    "def load_model(path):\n",
    "    model = build_model()\n",
    "    model.load_state_dict(torch.load(path))\n",
    "    model.eval()\n",
    "    return model"
   ]
  },
  {
   "cell_type": "markdown",
   "id": "a30ad172",
   "metadata": {
    "papermill": {
     "duration": 0.028993,
     "end_time": "2023-03-25T19:28:17.957472",
     "exception": false,
     "start_time": "2023-03-25T19:28:17.928479",
     "status": "completed"
    },
    "tags": []
   },
   "source": [
    "# 🔧 Loss Function"
   ]
  },
  {
   "cell_type": "code",
   "execution_count": 20,
   "id": "fb213b4c",
   "metadata": {
    "execution": {
     "iopub.execute_input": "2023-03-25T19:28:18.024474Z",
     "iopub.status.busy": "2023-03-25T19:28:18.023901Z",
     "iopub.status.idle": "2023-03-25T19:28:18.101699Z",
     "shell.execute_reply": "2023-03-25T19:28:18.101230Z",
     "shell.execute_reply.started": "2022-05-03T02:52:48.345708Z"
    },
    "papermill": {
     "duration": 0.114898,
     "end_time": "2023-03-25T19:28:18.101825",
     "exception": false,
     "start_time": "2023-03-25T19:28:17.986927",
     "status": "completed"
    },
    "tags": []
   },
   "outputs": [],
   "source": [
    "JaccardLoss = smp.losses.JaccardLoss(mode='multilabel')\n",
    "DiceLoss    = smp.losses.DiceLoss(mode='multilabel')\n",
    "BCELoss     = smp.losses.SoftBCEWithLogitsLoss()\n",
    "LovaszLoss  = smp.losses.LovaszLoss(mode='multilabel', per_image=False)\n",
    "TverskyLoss = smp.losses.TverskyLoss(mode='multilabel', log_loss=False)\n",
    "\n",
    "def dice_coef(y_true, y_pred, thr=0.5, dim=(2,3), epsilon=0.001):\n",
    "    y_true = y_true.to(torch.float32)\n",
    "    y_pred = (y_pred>thr).to(torch.float32)\n",
    "    inter = (y_true*y_pred).sum(dim=dim)\n",
    "    den = y_true.sum(dim=dim) + y_pred.sum(dim=dim)\n",
    "    dice = ((2*inter+epsilon)/(den+epsilon)).mean(dim=(1,0))\n",
    "    return dice\n",
    "\n",
    "def iou_coef(y_true, y_pred, thr=0.5, dim=(2,3), epsilon=0.001):\n",
    "    y_true = y_true.to(torch.float32)\n",
    "    y_pred = (y_pred>thr).to(torch.float32)\n",
    "    inter = (y_true*y_pred).sum(dim=dim)\n",
    "    union = (y_true + y_pred - y_true*y_pred).sum(dim=dim)\n",
    "    iou = ((inter+epsilon)/(union+epsilon)).mean(dim=(1,0))\n",
    "    return iou\n",
    "\n",
    "def criterion(y_pred, y_true):\n",
    "    return 0.5*BCELoss(y_pred, y_true) + 0.5*TverskyLoss(y_pred, y_true)"
   ]
  },
  {
   "cell_type": "markdown",
   "id": "bbc8f2cc",
   "metadata": {
    "papermill": {
     "duration": 0.029146,
     "end_time": "2023-03-25T19:28:18.160609",
     "exception": false,
     "start_time": "2023-03-25T19:28:18.131463",
     "status": "completed"
    },
    "tags": []
   },
   "source": [
    "# 🚄 Training Function"
   ]
  },
  {
   "cell_type": "code",
   "execution_count": 21,
   "id": "9519f6a5",
   "metadata": {
    "execution": {
     "iopub.execute_input": "2023-03-25T19:28:18.229274Z",
     "iopub.status.busy": "2023-03-25T19:28:18.228352Z",
     "iopub.status.idle": "2023-03-25T19:28:18.303953Z",
     "shell.execute_reply": "2023-03-25T19:28:18.303482Z",
     "shell.execute_reply.started": "2022-05-03T02:52:48.450753Z"
    },
    "papermill": {
     "duration": 0.114121,
     "end_time": "2023-03-25T19:28:18.304096",
     "exception": false,
     "start_time": "2023-03-25T19:28:18.189975",
     "status": "completed"
    },
    "tags": []
   },
   "outputs": [],
   "source": [
    "def train_one_epoch(model, optimizer, scheduler, dataloader, device, epoch):\n",
    "    model.train()\n",
    "    scaler = amp.GradScaler()\n",
    "    \n",
    "    dataset_size = 0\n",
    "    running_loss = 0.0\n",
    "    \n",
    "    pbar = tqdm(enumerate(dataloader), total=len(dataloader), desc='Train ')\n",
    "    for step, (images, masks) in pbar:         \n",
    "        images = images.to(device, dtype=torch.float)\n",
    "        masks  = masks.to(device, dtype=torch.float)\n",
    "        \n",
    "        batch_size = images.size(0)\n",
    "        \n",
    "        with amp.autocast(enabled=True):\n",
    "            y_pred = model(images)\n",
    "            loss   = criterion(y_pred, masks)\n",
    "            loss   = loss / CFG.n_accumulate\n",
    "            \n",
    "        scaler.scale(loss).backward()\n",
    "    \n",
    "        if (step + 1) % CFG.n_accumulate == 0:\n",
    "            scaler.step(optimizer)\n",
    "            scaler.update()\n",
    "\n",
    "            # zero the parameter gradients\n",
    "            optimizer.zero_grad()\n",
    "\n",
    "            if scheduler is not None:\n",
    "                scheduler.step()\n",
    "                \n",
    "        running_loss += (loss.item() * batch_size)\n",
    "        dataset_size += batch_size\n",
    "        \n",
    "        epoch_loss = running_loss / dataset_size\n",
    "        \n",
    "        mem = torch.cuda.memory_reserved() / 1E9 if torch.cuda.is_available() else 0\n",
    "        current_lr = optimizer.param_groups[0]['lr']\n",
    "        pbar.set_postfix(train_loss=f'{epoch_loss:0.4f}',\n",
    "                        lr=f'{current_lr:0.5f}',\n",
    "                        gpu_mem=f'{mem:0.2f} GB')\n",
    "        torch.cuda.empty_cache()\n",
    "        gc.collect()\n",
    "    \n",
    "    return epoch_loss"
   ]
  },
  {
   "cell_type": "markdown",
   "id": "754dd4e9",
   "metadata": {
    "papermill": {
     "duration": 0.029137,
     "end_time": "2023-03-25T19:28:18.363587",
     "exception": false,
     "start_time": "2023-03-25T19:28:18.334450",
     "status": "completed"
    },
    "tags": []
   },
   "source": [
    "# 👀 Validation Function"
   ]
  },
  {
   "cell_type": "code",
   "execution_count": 22,
   "id": "d9a305d7",
   "metadata": {
    "execution": {
     "iopub.execute_input": "2023-03-25T19:28:18.431171Z",
     "iopub.status.busy": "2023-03-25T19:28:18.430242Z",
     "iopub.status.idle": "2023-03-25T19:28:18.505472Z",
     "shell.execute_reply": "2023-03-25T19:28:18.504765Z",
     "shell.execute_reply.started": "2022-05-03T02:52:48.550056Z"
    },
    "papermill": {
     "duration": 0.112769,
     "end_time": "2023-03-25T19:28:18.505601",
     "exception": false,
     "start_time": "2023-03-25T19:28:18.392832",
     "status": "completed"
    },
    "tags": []
   },
   "outputs": [],
   "source": [
    "@torch.no_grad()\n",
    "def valid_one_epoch(model, dataloader, device, epoch):\n",
    "    model.eval()\n",
    "    \n",
    "    dataset_size = 0\n",
    "    running_loss = 0.0\n",
    "    \n",
    "    val_scores = []\n",
    "    \n",
    "    pbar = tqdm(enumerate(dataloader), total=len(dataloader), desc='Valid ')\n",
    "    for step, (images, masks) in pbar:        \n",
    "        images  = images.to(device, dtype=torch.float)\n",
    "        masks   = masks.to(device, dtype=torch.float)\n",
    "        \n",
    "        batch_size = images.size(0)\n",
    "        \n",
    "        y_pred  = model(images)\n",
    "        loss    = criterion(y_pred, masks)\n",
    "        \n",
    "        running_loss += (loss.item() * batch_size)\n",
    "        dataset_size += batch_size\n",
    "        \n",
    "        epoch_loss = running_loss / dataset_size\n",
    "        \n",
    "        y_pred = nn.Sigmoid()(y_pred)\n",
    "        val_dice = dice_coef(masks, y_pred).cpu().detach().numpy()\n",
    "        val_jaccard = iou_coef(masks, y_pred).cpu().detach().numpy()\n",
    "        val_scores.append([val_dice, val_jaccard])\n",
    "        \n",
    "        mem = torch.cuda.memory_reserved() / 1E9 if torch.cuda.is_available() else 0\n",
    "        current_lr = optimizer.param_groups[0]['lr']\n",
    "        pbar.set_postfix(valid_loss=f'{epoch_loss:0.4f}',\n",
    "                        lr=f'{current_lr:0.5f}',\n",
    "                        gpu_memory=f'{mem:0.2f} GB')\n",
    "    val_scores  = np.mean(val_scores, axis=0)\n",
    "    torch.cuda.empty_cache()\n",
    "    gc.collect()\n",
    "    \n",
    "    return epoch_loss, val_scores"
   ]
  },
  {
   "cell_type": "markdown",
   "id": "064daa6f",
   "metadata": {
    "papermill": {
     "duration": 0.028746,
     "end_time": "2023-03-25T19:28:18.563751",
     "exception": false,
     "start_time": "2023-03-25T19:28:18.535005",
     "status": "completed"
    },
    "tags": []
   },
   "source": [
    "# 🏃 Run Training"
   ]
  },
  {
   "cell_type": "code",
   "execution_count": 23,
   "id": "5316f153",
   "metadata": {
    "execution": {
     "iopub.execute_input": "2023-03-25T19:28:18.633756Z",
     "iopub.status.busy": "2023-03-25T19:28:18.632644Z",
     "iopub.status.idle": "2023-03-25T19:28:18.709727Z",
     "shell.execute_reply": "2023-03-25T19:28:18.709280Z",
     "shell.execute_reply.started": "2022-05-03T02:52:48.651263Z"
    },
    "papermill": {
     "duration": 0.116931,
     "end_time": "2023-03-25T19:28:18.709855",
     "exception": false,
     "start_time": "2023-03-25T19:28:18.592924",
     "status": "completed"
    },
    "tags": []
   },
   "outputs": [],
   "source": [
    "def run_training(model, optimizer, scheduler, device, num_epochs):\n",
    "    # To automatically log gradients\n",
    "    \n",
    "    if torch.cuda.is_available():\n",
    "        print(\"cuda: {}\\n\".format(torch.cuda.get_device_name()))\n",
    "    \n",
    "    start = time.time()\n",
    "    best_model_wts = copy.deepcopy(model.state_dict())\n",
    "    best_dice      = -np.inf\n",
    "    best_epoch     = -1\n",
    "    history = defaultdict(list)\n",
    "    \n",
    "    for epoch in range(1, num_epochs + 1): \n",
    "        gc.collect()\n",
    "        print(f'Epoch {epoch}/{num_epochs}', end='')\n",
    "        train_loss = train_one_epoch(model, optimizer, scheduler, \n",
    "                                           dataloader=train_loader, \n",
    "                                           device=CFG.device, epoch=epoch)\n",
    "        \n",
    "        val_loss, val_scores = valid_one_epoch(model, valid_loader, \n",
    "                                                 device=CFG.device, \n",
    "                                                 epoch=epoch)\n",
    "        val_dice, val_jaccard = val_scores\n",
    "    \n",
    "        history['Train Loss'].append(train_loss)\n",
    "        history['Valid Loss'].append(val_loss)\n",
    "        history['Valid Dice'].append(val_dice)\n",
    "        history['Valid Jaccard'].append(val_jaccard)\n",
    "        \n",
    "        print(f'Valid Dice: {val_dice:0.4f} | Valid Jaccard: {val_jaccard:0.4f}')\n",
    "        \n",
    "        # deep copy the model\n",
    "        if val_dice >= best_dice:\n",
    "            print(f\"{c_}Valid Score Improved ({best_dice:0.4f} ---> {val_dice:0.4f})\")\n",
    "            best_dice    = val_dice\n",
    "            best_jaccard = val_jaccard\n",
    "            best_epoch   = epoch\n",
    "            best_model_wts = copy.deepcopy(model.state_dict())\n",
    "            PATH = f\"best_epoch-{fold:02d}.bin\"\n",
    "            torch.save(model.state_dict(), PATH)\n",
    "            print(f\"Model Saved{sr_}\")\n",
    "            \n",
    "        last_model_wts = copy.deepcopy(model.state_dict())\n",
    "        PATH = f\"last_epoch-{fold:02d}.bin\"\n",
    "        torch.save(model.state_dict(), PATH)\n",
    "            \n",
    "        print(); print()\n",
    "    \n",
    "    end = time.time()\n",
    "    time_elapsed = end - start\n",
    "    print('Training complete in {:.0f}h {:.0f}m {:.0f}s'.format(\n",
    "        time_elapsed // 3600, (time_elapsed % 3600) // 60, (time_elapsed % 3600) % 60))\n",
    "    print(\"Best Score: {:.4f}\".format(best_jaccard))\n",
    "    \n",
    "    # load best model weights\n",
    "    model.load_state_dict(best_model_wts)\n",
    "    \n",
    "    return model, history"
   ]
  },
  {
   "cell_type": "markdown",
   "id": "310bb9e1",
   "metadata": {
    "papermill": {
     "duration": 0.028991,
     "end_time": "2023-03-25T19:28:18.768041",
     "exception": false,
     "start_time": "2023-03-25T19:28:18.739050",
     "status": "completed"
    },
    "tags": []
   },
   "source": [
    "# 🔍 Optimizer\n",
    "\n",
    "<img src=\"https://mlfromscratch.com/content/images/2019/12/saddle.gif\" width=500>"
   ]
  },
  {
   "cell_type": "code",
   "execution_count": 24,
   "id": "7b371d14",
   "metadata": {
    "execution": {
     "iopub.execute_input": "2023-03-25T19:28:18.833519Z",
     "iopub.status.busy": "2023-03-25T19:28:18.832383Z",
     "iopub.status.idle": "2023-03-25T19:28:18.910712Z",
     "shell.execute_reply": "2023-03-25T19:28:18.911230Z",
     "shell.execute_reply.started": "2022-05-03T02:52:48.761192Z"
    },
    "papermill": {
     "duration": 0.11365,
     "end_time": "2023-03-25T19:28:18.911395",
     "exception": false,
     "start_time": "2023-03-25T19:28:18.797745",
     "status": "completed"
    },
    "tags": []
   },
   "outputs": [],
   "source": [
    "def fetch_scheduler(optimizer):\n",
    "    if CFG.scheduler == 'CosineAnnealingLR':\n",
    "        scheduler = lr_scheduler.CosineAnnealingLR(optimizer,T_max=CFG.T_max, \n",
    "                                                   eta_min=CFG.min_lr)\n",
    "    elif CFG.scheduler == 'CosineAnnealingWarmRestarts':\n",
    "        scheduler = lr_scheduler.CosineAnnealingWarmRestarts(optimizer,T_0=CFG.T_0, \n",
    "                                                             eta_min=CFG.min_lr)\n",
    "    elif CFG.scheduler == 'ReduceLROnPlateau':\n",
    "        scheduler = lr_scheduler.ReduceLROnPlateau(optimizer,\n",
    "                                                   mode='min',\n",
    "                                                   factor=0.1,\n",
    "                                                   patience=7,\n",
    "                                                   threshold=0.0001,\n",
    "                                                   min_lr=CFG.min_lr,)\n",
    "    elif CFG.scheduer == 'ExponentialLR':\n",
    "        scheduler = lr_scheduler.ExponentialLR(optimizer, gamma=0.85)\n",
    "    elif CFG.scheduler == None:\n",
    "        return None\n",
    "        \n",
    "    return scheduler"
   ]
  },
  {
   "cell_type": "code",
   "execution_count": 25,
   "id": "ba12ffd9",
   "metadata": {
    "execution": {
     "iopub.execute_input": "2023-03-25T19:28:18.975152Z",
     "iopub.status.busy": "2023-03-25T19:28:18.974403Z",
     "iopub.status.idle": "2023-03-25T19:28:24.491949Z",
     "shell.execute_reply": "2023-03-25T19:28:24.491413Z",
     "shell.execute_reply.started": "2022-05-03T02:52:48.861061Z"
    },
    "papermill": {
     "duration": 5.550738,
     "end_time": "2023-03-25T19:28:24.492101",
     "exception": false,
     "start_time": "2023-03-25T19:28:18.941363",
     "status": "completed"
    },
    "tags": []
   },
   "outputs": [
    {
     "name": "stderr",
     "output_type": "stream",
     "text": [
      "Downloading: \"https://download.pytorch.org/models/vgg19_bn-c79401a0.pth\" to /root/.cache/torch/hub/checkpoints/vgg19_bn-c79401a0.pth\n"
     ]
    },
    {
     "data": {
      "application/vnd.jupyter.widget-view+json": {
       "model_id": "1a60fb1a47174ee18fe224325538c3a1",
       "version_major": 2,
       "version_minor": 0
      },
      "text/plain": [
       "  0%|          | 0.00/548M [00:00<?, ?B/s]"
      ]
     },
     "metadata": {},
     "output_type": "display_data"
    }
   ],
   "source": [
    "model = build_model()\n",
    "optimizer = optim.Adam(model.parameters(), lr=CFG.lr, weight_decay=CFG.wd)\n",
    "scheduler = fetch_scheduler(optimizer)"
   ]
  },
  {
   "cell_type": "markdown",
   "id": "09b7e4c0",
   "metadata": {
    "papermill": {
     "duration": 0.029912,
     "end_time": "2023-03-25T19:28:24.552519",
     "exception": false,
     "start_time": "2023-03-25T19:28:24.522607",
     "status": "completed"
    },
    "tags": []
   },
   "source": [
    "# 🚅 Training"
   ]
  },
  {
   "cell_type": "code",
   "execution_count": 26,
   "id": "e927ec57",
   "metadata": {
    "_kg_hide-output": false,
    "execution": {
     "iopub.execute_input": "2023-03-25T19:28:24.618817Z",
     "iopub.status.busy": "2023-03-25T19:28:24.617646Z",
     "iopub.status.idle": "2023-03-26T00:06:20.177145Z",
     "shell.execute_reply": "2023-03-26T00:06:20.178808Z"
    },
    "papermill": {
     "duration": 16675.597881,
     "end_time": "2023-03-26T00:06:20.180030",
     "exception": false,
     "start_time": "2023-03-25T19:28:24.582149",
     "status": "completed"
    },
    "tags": []
   },
   "outputs": [
    {
     "name": "stdout",
     "output_type": "stream",
     "text": [
      "###############\n",
      "### Fold: 0\n",
      "###############\n",
      "cuda: Tesla P100-PCIE-16GB\n",
      "\n",
      "Epoch 1/5"
     ]
    },
    {
     "name": "stderr",
     "output_type": "stream",
     "text": [
      "Train : 100%|██████████| 942/942 [51:56<00:00,  3.31s/it, gpu_mem=6.86 GB, lr=0.00181, train_loss=0.3540]\n",
      "Valid : 100%|██████████| 127/127 [02:47<00:00,  1.32s/it, gpu_memory=8.26 GB, lr=0.00181, valid_loss=0.3318]\n"
     ]
    },
    {
     "name": "stdout",
     "output_type": "stream",
     "text": [
      "Valid Dice: 0.7400 | Valid Jaccard: 0.7308\n",
      "\u001b[32mValid Score Improved (-inf ---> 0.7400)\n",
      "Model Saved\u001b[0m\n",
      "\n",
      "\n",
      "Epoch 2/5"
     ]
    },
    {
     "name": "stderr",
     "output_type": "stream",
     "text": [
      "Train : 100%|██████████| 942/942 [54:01<00:00,  3.44s/it, gpu_mem=6.97 GB, lr=0.00132, train_loss=0.1896]\n",
      "Valid : 100%|██████████| 127/127 [02:41<00:00,  1.27s/it, gpu_memory=11.16 GB, lr=0.00132, valid_loss=0.1596]\n"
     ]
    },
    {
     "name": "stdout",
     "output_type": "stream",
     "text": [
      "Valid Dice: 0.8111 | Valid Jaccard: 0.7760\n",
      "\u001b[32mValid Score Improved (0.7400 ---> 0.8111)\n",
      "Model Saved\u001b[0m\n",
      "\n",
      "\n",
      "Epoch 3/5"
     ]
    },
    {
     "name": "stderr",
     "output_type": "stream",
     "text": [
      "Train : 100%|██████████| 942/942 [52:16<00:00,  3.33s/it, gpu_mem=6.97 GB, lr=0.00070, train_loss=0.1459]\n",
      "Valid : 100%|██████████| 127/127 [02:48<00:00,  1.33s/it, gpu_memory=8.33 GB, lr=0.00070, valid_loss=0.1704]\n"
     ]
    },
    {
     "name": "stdout",
     "output_type": "stream",
     "text": [
      "Valid Dice: 0.8427 | Valid Jaccard: 0.8144\n",
      "\u001b[32mValid Score Improved (0.8111 ---> 0.8427)\n",
      "Model Saved\u001b[0m\n",
      "\n",
      "\n",
      "Epoch 4/5"
     ]
    },
    {
     "name": "stderr",
     "output_type": "stream",
     "text": [
      "Train : 100%|██████████| 942/942 [53:14<00:00,  3.39s/it, gpu_mem=6.98 GB, lr=0.00020, train_loss=0.1224]\n",
      "Valid : 100%|██████████| 127/127 [02:47<00:00,  1.32s/it, gpu_memory=11.25 GB, lr=0.00020, valid_loss=0.1175]\n"
     ]
    },
    {
     "name": "stdout",
     "output_type": "stream",
     "text": [
      "Valid Dice: 0.8771 | Valid Jaccard: 0.8452\n",
      "\u001b[32mValid Score Improved (0.8427 ---> 0.8771)\n",
      "Model Saved\u001b[0m\n",
      "\n",
      "\n",
      "Epoch 5/5"
     ]
    },
    {
     "name": "stderr",
     "output_type": "stream",
     "text": [
      "Train : 100%|██████████| 942/942 [52:22<00:00,  3.34s/it, gpu_mem=6.97 GB, lr=0.00000, train_loss=0.1109]\n",
      "Valid : 100%|██████████| 127/127 [02:44<00:00,  1.29s/it, gpu_memory=8.34 GB, lr=0.00000, valid_loss=0.1151]\n"
     ]
    },
    {
     "name": "stdout",
     "output_type": "stream",
     "text": [
      "Valid Dice: 0.8843 | Valid Jaccard: 0.8531\n",
      "\u001b[32mValid Score Improved (0.8771 ---> 0.8843)\n",
      "Model Saved\u001b[0m\n",
      "\n",
      "\n",
      "Training complete in 4h 37m 53s\n",
      "Best Score: 0.8531\n"
     ]
    }
   ],
   "source": [
    "for fold in CFG.folds:\n",
    "    print(f'#'*15)\n",
    "    print(f'### Fold: {fold}')\n",
    "    print(f'#'*15)\n",
    "    train_loader, valid_loader = prepare_loaders(fold=fold, debug=CFG.debug)\n",
    "    model     = build_model()\n",
    "    optimizer = optim.Adam(model.parameters(), lr=CFG.lr, weight_decay=CFG.wd)\n",
    "    scheduler = fetch_scheduler(optimizer)\n",
    "    model, history = run_training(model, optimizer, scheduler,\n",
    "                                  device=CFG.device,\n",
    "                                  num_epochs=CFG.epochs)"
   ]
  }
 ],
 "metadata": {
  "kernelspec": {
   "display_name": "Python 3",
   "language": "python",
   "name": "python3"
  },
  "language_info": {
   "codemirror_mode": {
    "name": "ipython",
    "version": 3
   },
   "file_extension": ".py",
   "mimetype": "text/x-python",
   "name": "python",
   "nbconvert_exporter": "python",
   "pygments_lexer": "ipython3",
   "version": "3.7.10"
  },
  "papermill": {
   "default_parameters": {},
   "duration": 16747.647432,
   "end_time": "2023-03-26T00:06:27.681205",
   "environment_variables": {},
   "exception": null,
   "input_path": "__notebook__.ipynb",
   "output_path": "__notebook__.ipynb",
   "parameters": {},
   "start_time": "2023-03-25T19:27:20.033773",
   "version": "2.3.3"
  },
  "widgets": {
   "application/vnd.jupyter.widget-state+json": {
    "state": {
     "08411f7bf8b942f4b3ea06f5f1401ff9": {
      "model_module": "@jupyter-widgets/controls",
      "model_module_version": "1.5.0",
      "model_name": "ProgressStyleModel",
      "state": {
       "_model_module": "@jupyter-widgets/controls",
       "_model_module_version": "1.5.0",
       "_model_name": "ProgressStyleModel",
       "_view_count": null,
       "_view_module": "@jupyter-widgets/base",
       "_view_module_version": "1.2.0",
       "_view_name": "StyleView",
       "bar_color": null,
       "description_width": ""
      }
     },
     "0d2d4a40466b4dd5aa7cbcd559bfc13d": {
      "model_module": "@jupyter-widgets/base",
      "model_module_version": "1.2.0",
      "model_name": "LayoutModel",
      "state": {
       "_model_module": "@jupyter-widgets/base",
       "_model_module_version": "1.2.0",
       "_model_name": "LayoutModel",
       "_view_count": null,
       "_view_module": "@jupyter-widgets/base",
       "_view_module_version": "1.2.0",
       "_view_name": "LayoutView",
       "align_content": null,
       "align_items": null,
       "align_self": null,
       "border": null,
       "bottom": null,
       "display": null,
       "flex": null,
       "flex_flow": null,
       "grid_area": null,
       "grid_auto_columns": null,
       "grid_auto_flow": null,
       "grid_auto_rows": null,
       "grid_column": null,
       "grid_gap": null,
       "grid_row": null,
       "grid_template_areas": null,
       "grid_template_columns": null,
       "grid_template_rows": null,
       "height": null,
       "justify_content": null,
       "justify_items": null,
       "left": null,
       "margin": null,
       "max_height": null,
       "max_width": null,
       "min_height": null,
       "min_width": null,
       "object_fit": null,
       "object_position": null,
       "order": null,
       "overflow": null,
       "overflow_x": null,
       "overflow_y": null,
       "padding": null,
       "right": null,
       "top": null,
       "visibility": null,
       "width": null
      }
     },
     "198071c4460f44e3b8dcabc9acbc4157": {
      "model_module": "@jupyter-widgets/controls",
      "model_module_version": "1.5.0",
      "model_name": "HTMLModel",
      "state": {
       "_dom_classes": [],
       "_model_module": "@jupyter-widgets/controls",
       "_model_module_version": "1.5.0",
       "_model_name": "HTMLModel",
       "_view_count": null,
       "_view_module": "@jupyter-widgets/controls",
       "_view_module_version": "1.5.0",
       "_view_name": "HTMLView",
       "description": "",
       "description_tooltip": null,
       "layout": "IPY_MODEL_0d2d4a40466b4dd5aa7cbcd559bfc13d",
       "placeholder": "​",
       "style": "IPY_MODEL_56a9b62e906743f8961dc02a1fad03a4",
       "value": " 548M/548M [00:02&lt;00:00, 196MB/s]"
      }
     },
     "1a60fb1a47174ee18fe224325538c3a1": {
      "model_module": "@jupyter-widgets/controls",
      "model_module_version": "1.5.0",
      "model_name": "HBoxModel",
      "state": {
       "_dom_classes": [],
       "_model_module": "@jupyter-widgets/controls",
       "_model_module_version": "1.5.0",
       "_model_name": "HBoxModel",
       "_view_count": null,
       "_view_module": "@jupyter-widgets/controls",
       "_view_module_version": "1.5.0",
       "_view_name": "HBoxView",
       "box_style": "",
       "children": [
        "IPY_MODEL_53eb80c5df394cd6b1394efc7c73fc39",
        "IPY_MODEL_b23ec20fe91b42ee9e1af2d0de80da0f",
        "IPY_MODEL_198071c4460f44e3b8dcabc9acbc4157"
       ],
       "layout": "IPY_MODEL_6391ebf86b3d45fc81fd8b7f59dd5995"
      }
     },
     "53eb80c5df394cd6b1394efc7c73fc39": {
      "model_module": "@jupyter-widgets/controls",
      "model_module_version": "1.5.0",
      "model_name": "HTMLModel",
      "state": {
       "_dom_classes": [],
       "_model_module": "@jupyter-widgets/controls",
       "_model_module_version": "1.5.0",
       "_model_name": "HTMLModel",
       "_view_count": null,
       "_view_module": "@jupyter-widgets/controls",
       "_view_module_version": "1.5.0",
       "_view_name": "HTMLView",
       "description": "",
       "description_tooltip": null,
       "layout": "IPY_MODEL_d3742c31586d4c52ac5efd7a4b9a4921",
       "placeholder": "​",
       "style": "IPY_MODEL_fc8f054e3f34458ba4997b0eab97a0f2",
       "value": "100%"
      }
     },
     "56a9b62e906743f8961dc02a1fad03a4": {
      "model_module": "@jupyter-widgets/controls",
      "model_module_version": "1.5.0",
      "model_name": "DescriptionStyleModel",
      "state": {
       "_model_module": "@jupyter-widgets/controls",
       "_model_module_version": "1.5.0",
       "_model_name": "DescriptionStyleModel",
       "_view_count": null,
       "_view_module": "@jupyter-widgets/base",
       "_view_module_version": "1.2.0",
       "_view_name": "StyleView",
       "description_width": ""
      }
     },
     "6391ebf86b3d45fc81fd8b7f59dd5995": {
      "model_module": "@jupyter-widgets/base",
      "model_module_version": "1.2.0",
      "model_name": "LayoutModel",
      "state": {
       "_model_module": "@jupyter-widgets/base",
       "_model_module_version": "1.2.0",
       "_model_name": "LayoutModel",
       "_view_count": null,
       "_view_module": "@jupyter-widgets/base",
       "_view_module_version": "1.2.0",
       "_view_name": "LayoutView",
       "align_content": null,
       "align_items": null,
       "align_self": null,
       "border": null,
       "bottom": null,
       "display": null,
       "flex": null,
       "flex_flow": null,
       "grid_area": null,
       "grid_auto_columns": null,
       "grid_auto_flow": null,
       "grid_auto_rows": null,
       "grid_column": null,
       "grid_gap": null,
       "grid_row": null,
       "grid_template_areas": null,
       "grid_template_columns": null,
       "grid_template_rows": null,
       "height": null,
       "justify_content": null,
       "justify_items": null,
       "left": null,
       "margin": null,
       "max_height": null,
       "max_width": null,
       "min_height": null,
       "min_width": null,
       "object_fit": null,
       "object_position": null,
       "order": null,
       "overflow": null,
       "overflow_x": null,
       "overflow_y": null,
       "padding": null,
       "right": null,
       "top": null,
       "visibility": null,
       "width": null
      }
     },
     "b23ec20fe91b42ee9e1af2d0de80da0f": {
      "model_module": "@jupyter-widgets/controls",
      "model_module_version": "1.5.0",
      "model_name": "FloatProgressModel",
      "state": {
       "_dom_classes": [],
       "_model_module": "@jupyter-widgets/controls",
       "_model_module_version": "1.5.0",
       "_model_name": "FloatProgressModel",
       "_view_count": null,
       "_view_module": "@jupyter-widgets/controls",
       "_view_module_version": "1.5.0",
       "_view_name": "ProgressView",
       "bar_style": "success",
       "description": "",
       "description_tooltip": null,
       "layout": "IPY_MODEL_d17435d9cb014c07b9b7e70c00032d10",
       "max": 574769405.0,
       "min": 0.0,
       "orientation": "horizontal",
       "style": "IPY_MODEL_08411f7bf8b942f4b3ea06f5f1401ff9",
       "value": 574769405.0
      }
     },
     "d17435d9cb014c07b9b7e70c00032d10": {
      "model_module": "@jupyter-widgets/base",
      "model_module_version": "1.2.0",
      "model_name": "LayoutModel",
      "state": {
       "_model_module": "@jupyter-widgets/base",
       "_model_module_version": "1.2.0",
       "_model_name": "LayoutModel",
       "_view_count": null,
       "_view_module": "@jupyter-widgets/base",
       "_view_module_version": "1.2.0",
       "_view_name": "LayoutView",
       "align_content": null,
       "align_items": null,
       "align_self": null,
       "border": null,
       "bottom": null,
       "display": null,
       "flex": null,
       "flex_flow": null,
       "grid_area": null,
       "grid_auto_columns": null,
       "grid_auto_flow": null,
       "grid_auto_rows": null,
       "grid_column": null,
       "grid_gap": null,
       "grid_row": null,
       "grid_template_areas": null,
       "grid_template_columns": null,
       "grid_template_rows": null,
       "height": null,
       "justify_content": null,
       "justify_items": null,
       "left": null,
       "margin": null,
       "max_height": null,
       "max_width": null,
       "min_height": null,
       "min_width": null,
       "object_fit": null,
       "object_position": null,
       "order": null,
       "overflow": null,
       "overflow_x": null,
       "overflow_y": null,
       "padding": null,
       "right": null,
       "top": null,
       "visibility": null,
       "width": null
      }
     },
     "d3742c31586d4c52ac5efd7a4b9a4921": {
      "model_module": "@jupyter-widgets/base",
      "model_module_version": "1.2.0",
      "model_name": "LayoutModel",
      "state": {
       "_model_module": "@jupyter-widgets/base",
       "_model_module_version": "1.2.0",
       "_model_name": "LayoutModel",
       "_view_count": null,
       "_view_module": "@jupyter-widgets/base",
       "_view_module_version": "1.2.0",
       "_view_name": "LayoutView",
       "align_content": null,
       "align_items": null,
       "align_self": null,
       "border": null,
       "bottom": null,
       "display": null,
       "flex": null,
       "flex_flow": null,
       "grid_area": null,
       "grid_auto_columns": null,
       "grid_auto_flow": null,
       "grid_auto_rows": null,
       "grid_column": null,
       "grid_gap": null,
       "grid_row": null,
       "grid_template_areas": null,
       "grid_template_columns": null,
       "grid_template_rows": null,
       "height": null,
       "justify_content": null,
       "justify_items": null,
       "left": null,
       "margin": null,
       "max_height": null,
       "max_width": null,
       "min_height": null,
       "min_width": null,
       "object_fit": null,
       "object_position": null,
       "order": null,
       "overflow": null,
       "overflow_x": null,
       "overflow_y": null,
       "padding": null,
       "right": null,
       "top": null,
       "visibility": null,
       "width": null
      }
     },
     "fc8f054e3f34458ba4997b0eab97a0f2": {
      "model_module": "@jupyter-widgets/controls",
      "model_module_version": "1.5.0",
      "model_name": "DescriptionStyleModel",
      "state": {
       "_model_module": "@jupyter-widgets/controls",
       "_model_module_version": "1.5.0",
       "_model_name": "DescriptionStyleModel",
       "_view_count": null,
       "_view_module": "@jupyter-widgets/base",
       "_view_module_version": "1.2.0",
       "_view_name": "StyleView",
       "description_width": ""
      }
     }
    },
    "version_major": 2,
    "version_minor": 0
   }
  }
 },
 "nbformat": 4,
 "nbformat_minor": 5
}
